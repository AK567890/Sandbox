{
 "cells": [
  {
   "cell_type": "markdown",
   "metadata": {
    "deletable": false,
    "editable": false,
    "id": "t00fl5UqGwCy",
    "tags": [
     "1e3c4ba5-e41c-441c-b80d-91af102cc6cd"
    ]
   },
   "source": [
    "\n",
    "# Кейс спринта\n",
    "\n",
    "\n",
    "Заказчик проекта — «Карта ДТП». Это некоммерческий проект, посвящённый проблеме дорожно-транспортных происшествий в России. Цель проекта — повысить безопасность на дорогах.\n",
    "\n",
    "«Карта ДТП» помогает выявлять реальные причины ДТП, оценивать уровень развития инфраструктуры, а также разрабатывать качественные решения и программы по повышению безопасности на улицах и дорогах. Заказчик хочет собирать данные более высокого качества и ожидает от вас рекомендаций: на какие проблемы или особенности обратить внимание.\n",
    "\n",
    "## Что нужно сделать\n",
    "\n",
    "Вам необходимо проверить, встречаются ли в данных дубликаты и пропуски. Это поможет заказчикам собирать более качественные данные.\n",
    "\n",
    "Вам также понадобится ответить на следующие вопросы:\n",
    "\n",
    "- как менялось число ДТП по временным промежуткам;\n",
    "\n",
    "- различается ли число ДТП для групп водителей с разным стажем.\n",
    "\n",
    "\n",
    "## Описание данных\n",
    "\n",
    "Данные `Kirovskaya_oblast.csv`, `Moscowskaya_oblast.csv` содержат информацию ДТП:\n",
    "\n",
    "* `geometry.coordinates` — координаты ДТП;\n",
    "\n",
    "* `id` — идентификатор ДТП;\n",
    "\n",
    "*  `properties.tags` — тег происшествия;\n",
    "\n",
    "*  `properties.light` — освещённость;\n",
    "\n",
    "*  `properties.point.lat` — широта;\n",
    "\n",
    "*  `properties.point.long` — долгота;\n",
    "\n",
    "*  `properties.nearby` — ближайшие объекты;\n",
    "\n",
    "*  `properties.region` — регион;\n",
    "\n",
    "*  `properties.scheme` — схема ДТП;\n",
    "\n",
    "*  `properties.address` — ближайший адрес;\n",
    "\n",
    "*  `properties.weather` — погода;\n",
    "\n",
    "*  `properties.category` — категория ДТП;\n",
    "\n",
    "*  `properties.datetime` — дата и время ДТП;\n",
    "\n",
    "*  `properties.injured_count` — число пострадавших;\n",
    "\n",
    "*  `properties.parent_region` — область;\n",
    "\n",
    "*  `properties.road_conditions` — состояние покрытия;\n",
    "\n",
    "*  `properties.participants_count` — число участников;\n",
    "\n",
    "*  `properties.participant_categories` — категории участников.\n",
    "\n",
    "`Moscowskaya_oblast_participiants.csv`, `Kirovskaya_oblast_participiants.csv` — сведения об участниках ДТП:\n",
    "\n",
    "* `role` — роль;\n",
    "\n",
    "* `gender` — пол;\n",
    "\n",
    "* `violations` — какие правила дорожного движения были нарушены конкретным участником;\n",
    "\n",
    "* `health_status` — состояние здоровья после  ДТП;\n",
    "\n",
    "* `years_of_driving_experience` — число лет опыта;\n",
    "\n",
    "* `id` — идентификатор ДТП.\n",
    "\n",
    "\n",
    "`Kirovskaya_oblast_vehicles.csv`, `Moscowskaya_oblast_vehicles.csv` — сведения о транспортных средствах:\n",
    "\n",
    "* `year` — год выпуска;\n",
    "\n",
    "* `brand` — марка транспортного средства;\n",
    "\n",
    "* `color` — цвет;\n",
    "\n",
    "* `model` — модель;\n",
    "\n",
    "* `category` — категория;\n",
    "\n",
    "* `id` — идентификатор ДТП."
   ]
  },
  {
   "cell_type": "markdown",
   "metadata": {
    "id": "igXM2EUwJQeu"
   },
   "source": [
    "## Проверка ошибок в данных и их предобработка"
   ]
  },
  {
   "cell_type": "markdown",
   "metadata": {
    "id": "IeZjY9f9MPgb"
   },
   "source": [
    "### Замена названий (меток) столбцов на оптимальные для работы"
   ]
  },
  {
   "cell_type": "code",
   "execution_count": 104,
   "metadata": {},
   "outputs": [],
   "source": [
    "import pandas as pd"
   ]
  },
  {
   "cell_type": "code",
   "execution_count": 105,
   "metadata": {},
   "outputs": [
    {
     "name": "stdout",
     "output_type": "stream",
     "text": [
      "<class 'pandas.core.frame.DataFrame'>\n",
      "RangeIndex: 14517 entries, 0 to 14516\n",
      "Data columns (total 18 columns):\n",
      " #   Column                             Non-Null Count  Dtype  \n",
      "---  ------                             --------------  -----  \n",
      " 0   geometry.coordinates               14517 non-null  object \n",
      " 1   id                                 14517 non-null  int64  \n",
      " 2   properties.tags                    14517 non-null  object \n",
      " 3   properties.light                   14517 non-null  object \n",
      " 4   properties.point.lat               14485 non-null  float64\n",
      " 5   properties.point.long              14485 non-null  float64\n",
      " 6   properties.nearby                  14517 non-null  object \n",
      " 7   properties.region                  14517 non-null  object \n",
      " 8   properties.scheme                  13380 non-null  float64\n",
      " 9   properties.address                 13843 non-null  object \n",
      " 10  properties.weather                 14517 non-null  object \n",
      " 11  properties.category                14517 non-null  object \n",
      " 12  properties.datetime                14517 non-null  object \n",
      " 13  properties.injured_count           14517 non-null  int64  \n",
      " 14  properties.parent_region           14517 non-null  object \n",
      " 15  properties.road_conditions         14517 non-null  object \n",
      " 16  properties.participants_count      14517 non-null  int64  \n",
      " 17  properties.participant_categories  14517 non-null  object \n",
      "dtypes: float64(3), int64(3), object(12)\n",
      "memory usage: 2.0+ MB\n"
     ]
    },
    {
     "data": {
      "text/plain": [
       "None"
      ]
     },
     "metadata": {},
     "output_type": "display_data"
    },
    {
     "name": "stdout",
     "output_type": "stream",
     "text": [
      "<class 'pandas.core.frame.DataFrame'>\n",
      "RangeIndex: 45618 entries, 0 to 45617\n",
      "Data columns (total 18 columns):\n",
      " #   Column                             Non-Null Count  Dtype  \n",
      "---  ------                             --------------  -----  \n",
      " 0   geometry.coordinates               45618 non-null  object \n",
      " 1   id                                 45618 non-null  int64  \n",
      " 2   properties.tags                    45618 non-null  object \n",
      " 3   properties.light                   45618 non-null  object \n",
      " 4   properties.point.lat               45615 non-null  float64\n",
      " 5   properties.point.long              45615 non-null  float64\n",
      " 6   properties.nearby                  45618 non-null  object \n",
      " 7   properties.region                  45618 non-null  object \n",
      " 8   properties.scheme                  44235 non-null  float64\n",
      " 9   properties.address                 43862 non-null  object \n",
      " 10  properties.weather                 45618 non-null  object \n",
      " 11  properties.category                45618 non-null  object \n",
      " 12  properties.datetime                45618 non-null  object \n",
      " 13  properties.injured_count           45618 non-null  int64  \n",
      " 14  properties.parent_region           45618 non-null  object \n",
      " 15  properties.road_conditions         45618 non-null  object \n",
      " 16  properties.participants_count      45618 non-null  int64  \n",
      " 17  properties.participant_categories  45618 non-null  object \n",
      "dtypes: float64(3), int64(3), object(12)\n",
      "memory usage: 6.3+ MB\n"
     ]
    },
    {
     "data": {
      "text/plain": [
       "None"
      ]
     },
     "metadata": {},
     "output_type": "display_data"
    },
    {
     "name": "stdout",
     "output_type": "stream",
     "text": [
      "<class 'pandas.core.frame.DataFrame'>\n",
      "RangeIndex: 31235 entries, 0 to 31234\n",
      "Data columns (total 6 columns):\n",
      " #   Column                       Non-Null Count  Dtype  \n",
      "---  ------                       --------------  -----  \n",
      " 0   role                         31235 non-null  object \n",
      " 1   gender                       30387 non-null  object \n",
      " 2   violations                   31235 non-null  object \n",
      " 3   health_status                31135 non-null  object \n",
      " 4   years_of_driving_experience  16909 non-null  float64\n",
      " 5   id                           31235 non-null  int64  \n",
      "dtypes: float64(1), int64(1), object(4)\n",
      "memory usage: 1.4+ MB\n"
     ]
    },
    {
     "data": {
      "text/plain": [
       "None"
      ]
     },
     "metadata": {},
     "output_type": "display_data"
    },
    {
     "name": "stdout",
     "output_type": "stream",
     "text": [
      "<class 'pandas.core.frame.DataFrame'>\n",
      "RangeIndex: 95177 entries, 0 to 95176\n",
      "Data columns (total 6 columns):\n",
      " #   Column                       Non-Null Count  Dtype  \n",
      "---  ------                       --------------  -----  \n",
      " 0   role                         95177 non-null  object \n",
      " 1   gender                       93307 non-null  object \n",
      " 2   violations                   95177 non-null  object \n",
      " 3   health_status                95070 non-null  object \n",
      " 4   years_of_driving_experience  59679 non-null  float64\n",
      " 5   id                           95177 non-null  int64  \n",
      "dtypes: float64(1), int64(1), object(4)\n",
      "memory usage: 4.4+ MB\n"
     ]
    },
    {
     "data": {
      "text/plain": [
       "None"
      ]
     },
     "metadata": {},
     "output_type": "display_data"
    },
    {
     "name": "stdout",
     "output_type": "stream",
     "text": [
      "<class 'pandas.core.frame.DataFrame'>\n",
      "RangeIndex: 20093 entries, 0 to 20092\n",
      "Data columns (total 6 columns):\n",
      " #   Column    Non-Null Count  Dtype  \n",
      "---  ------    --------------  -----  \n",
      " 0   year      19299 non-null  float64\n",
      " 1   brand     19318 non-null  object \n",
      " 2   color     19643 non-null  object \n",
      " 3   model     19318 non-null  object \n",
      " 4   category  20093 non-null  object \n",
      " 5   id        20093 non-null  int64  \n",
      "dtypes: float64(1), int64(1), object(4)\n",
      "memory usage: 942.0+ KB\n"
     ]
    },
    {
     "data": {
      "text/plain": [
       "None"
      ]
     },
     "metadata": {},
     "output_type": "display_data"
    },
    {
     "name": "stdout",
     "output_type": "stream",
     "text": [
      "<class 'pandas.core.frame.DataFrame'>\n",
      "RangeIndex: 20093 entries, 0 to 20092\n",
      "Data columns (total 6 columns):\n",
      " #   Column    Non-Null Count  Dtype  \n",
      "---  ------    --------------  -----  \n",
      " 0   year      19299 non-null  float64\n",
      " 1   brand     19318 non-null  object \n",
      " 2   color     19643 non-null  object \n",
      " 3   model     19318 non-null  object \n",
      " 4   category  20093 non-null  object \n",
      " 5   id        20093 non-null  int64  \n",
      "dtypes: float64(1), int64(1), object(4)\n",
      "memory usage: 942.0+ KB\n"
     ]
    },
    {
     "data": {
      "text/plain": [
       "None"
      ]
     },
     "metadata": {},
     "output_type": "display_data"
    }
   ],
   "source": [
    "ko = pd.read_csv('https://code.s3.yandex.net/datasets/Kirovskaya_oblast.csv')\n",
    "display(ko.info())\n",
    "mo = pd.read_csv('https://code.s3.yandex.net/datasets/Moscowskaya_oblast.csv')\n",
    "display(mo.info())\n",
    "ko_part = pd.read_csv('https://code.s3.yandex.net/datasets/Kirovskaya_oblast_participiants.csv')\n",
    "display(ko_part.info())\n",
    "mo_part = pd.read_csv('https://code.s3.yandex.net/datasets/Moscowskaya_oblast_participiants.csv')\n",
    "display(mo_part.info())\n",
    "ko_v = pd.read_csv('https://code.s3.yandex.net/datasets/Kirovskaya_oblast_vehicles.csv')\n",
    "display(ko_v.info())\n",
    "mo_v = pd.read_csv('https://code.s3.yandex.net/datasets/Kirovskaya_oblast_vehicles.csv')\n",
    "display(mo_v.info())"
   ]
  },
  {
   "cell_type": "markdown",
   "metadata": {},
   "source": [
    "В таблицах Kirovskaya_oblast.csv и Moscowskaya_oblast.csv (ko, mo) необходимо привести названия столбцов к snake_case. Кроме того, можно сократить названия столбцов, в которых есть слово properties."
   ]
  },
  {
   "cell_type": "code",
   "execution_count": 106,
   "metadata": {},
   "outputs": [
    {
     "name": "stdout",
     "output_type": "stream",
     "text": [
      "<class 'pandas.core.frame.DataFrame'>\n",
      "RangeIndex: 14517 entries, 0 to 14516\n",
      "Data columns (total 18 columns):\n",
      " #   Column                  Non-Null Count  Dtype  \n",
      "---  ------                  --------------  -----  \n",
      " 0   geometry_coordinates    14517 non-null  object \n",
      " 1   id                      14517 non-null  int64  \n",
      " 2   tags                    14517 non-null  object \n",
      " 3   light                   14517 non-null  object \n",
      " 4   point_lat               14485 non-null  float64\n",
      " 5   point_long              14485 non-null  float64\n",
      " 6   nearby                  14517 non-null  object \n",
      " 7   region                  14517 non-null  object \n",
      " 8   scheme                  13380 non-null  float64\n",
      " 9   address                 13843 non-null  object \n",
      " 10  weather                 14517 non-null  object \n",
      " 11  category                14517 non-null  object \n",
      " 12  datetime                14517 non-null  object \n",
      " 13  injured_count           14517 non-null  int64  \n",
      " 14  parent_region           14517 non-null  object \n",
      " 15  road_conditions         14517 non-null  object \n",
      " 16  participants_count      14517 non-null  int64  \n",
      " 17  participant_categories  14517 non-null  object \n",
      "dtypes: float64(3), int64(3), object(12)\n",
      "memory usage: 2.0+ MB\n"
     ]
    },
    {
     "data": {
      "text/plain": [
       "None"
      ]
     },
     "metadata": {},
     "output_type": "display_data"
    },
    {
     "name": "stdout",
     "output_type": "stream",
     "text": [
      "<class 'pandas.core.frame.DataFrame'>\n",
      "RangeIndex: 45618 entries, 0 to 45617\n",
      "Data columns (total 18 columns):\n",
      " #   Column                  Non-Null Count  Dtype  \n",
      "---  ------                  --------------  -----  \n",
      " 0   geometry_coordinates    45618 non-null  object \n",
      " 1   id                      45618 non-null  int64  \n",
      " 2   tags                    45618 non-null  object \n",
      " 3   light                   45618 non-null  object \n",
      " 4   point_lat               45615 non-null  float64\n",
      " 5   point_long              45615 non-null  float64\n",
      " 6   nearby                  45618 non-null  object \n",
      " 7   region                  45618 non-null  object \n",
      " 8   scheme                  44235 non-null  float64\n",
      " 9   address                 43862 non-null  object \n",
      " 10  weather                 45618 non-null  object \n",
      " 11  category                45618 non-null  object \n",
      " 12  datetime                45618 non-null  object \n",
      " 13  injured_count           45618 non-null  int64  \n",
      " 14  parent_region           45618 non-null  object \n",
      " 15  road_conditions         45618 non-null  object \n",
      " 16  participants_count      45618 non-null  int64  \n",
      " 17  participant_categories  45618 non-null  object \n",
      "dtypes: float64(3), int64(3), object(12)\n",
      "memory usage: 6.3+ MB\n"
     ]
    },
    {
     "data": {
      "text/plain": [
       "None"
      ]
     },
     "metadata": {},
     "output_type": "display_data"
    }
   ],
   "source": [
    "ko.columns = ko.columns.str.replace('.', '_').str.replace('properties_','')\n",
    "display(ko.info())\n",
    "mo.columns = mo.columns.str.replace('.', '_').str.replace('properties_','')\n",
    "display(mo.info())"
   ]
  },
  {
   "cell_type": "markdown",
   "metadata": {},
   "source": [
    "Приведём столбцы datetime к соответствующему типу."
   ]
  },
  {
   "cell_type": "code",
   "execution_count": 107,
   "metadata": {},
   "outputs": [
    {
     "data": {
      "text/plain": [
       "0   2017-07-01 18:00:00\n",
       "1   2023-09-12 17:10:00\n",
       "Name: datetime, dtype: datetime64[ns]"
      ]
     },
     "metadata": {},
     "output_type": "display_data"
    }
   ],
   "source": [
    "ko['datetime']=ko['datetime'].astype('datetime64[ns]')\n",
    "display(ko['datetime'].head(2))"
   ]
  },
  {
   "cell_type": "code",
   "execution_count": 108,
   "metadata": {},
   "outputs": [
    {
     "data": {
      "text/plain": [
       "0   2017-07-01 18:00:00\n",
       "1   2023-09-12 17:10:00\n",
       "Name: datetime, dtype: datetime64[ns]"
      ]
     },
     "metadata": {},
     "output_type": "display_data"
    }
   ],
   "source": [
    "mo['datetime']=mo['datetime'].astype('datetime64[ns]')\n",
    "display(ko['datetime'].head(2))"
   ]
  },
  {
   "cell_type": "markdown",
   "metadata": {
    "id": "WO_WoGOFMLwN"
   },
   "source": [
    "### Проверка пропусков в данных\n",
    "\n",
    "На примере датасета `Kirovskaya_oblast.csv` изучите, в каких столбцах есть пропуски. Предположите причины их возникновения. Напишите рекомендации, как работать с  пропусками и как их в дальнейшем избежать."
   ]
  },
  {
   "cell_type": "code",
   "execution_count": 109,
   "metadata": {},
   "outputs": [
    {
     "data": {
      "text/html": [
       "<div>\n",
       "<style scoped>\n",
       "    .dataframe tbody tr th:only-of-type {\n",
       "        vertical-align: middle;\n",
       "    }\n",
       "\n",
       "    .dataframe tbody tr th {\n",
       "        vertical-align: top;\n",
       "    }\n",
       "\n",
       "    .dataframe thead th {\n",
       "        text-align: right;\n",
       "    }\n",
       "</style>\n",
       "<table border=\"1\" class=\"dataframe\">\n",
       "  <thead>\n",
       "    <tr style=\"text-align: right;\">\n",
       "      <th></th>\n",
       "      <th>geometry_coordinates</th>\n",
       "      <th>id</th>\n",
       "      <th>tags</th>\n",
       "      <th>light</th>\n",
       "      <th>point_lat</th>\n",
       "      <th>point_long</th>\n",
       "      <th>nearby</th>\n",
       "      <th>region</th>\n",
       "      <th>scheme</th>\n",
       "      <th>address</th>\n",
       "      <th>weather</th>\n",
       "      <th>category</th>\n",
       "      <th>datetime</th>\n",
       "      <th>injured_count</th>\n",
       "      <th>parent_region</th>\n",
       "      <th>road_conditions</th>\n",
       "      <th>participants_count</th>\n",
       "      <th>participant_categories</th>\n",
       "    </tr>\n",
       "  </thead>\n",
       "  <tbody>\n",
       "    <tr>\n",
       "      <th>0</th>\n",
       "      <td>[47.875603, 57.24379]</td>\n",
       "      <td>1983180</td>\n",
       "      <td>Дорожно-транспортные происшествия</td>\n",
       "      <td>Светлое время суток</td>\n",
       "      <td>57.243790</td>\n",
       "      <td>47.875603</td>\n",
       "      <td>[]</td>\n",
       "      <td>Яранский район</td>\n",
       "      <td>600.0</td>\n",
       "      <td>Р-176 Вятка Чебоксары - Йошкар-Ола - Киров - С...</td>\n",
       "      <td>['Дождь']</td>\n",
       "      <td>Опрокидывание</td>\n",
       "      <td>2017-07-01 18:00:00</td>\n",
       "      <td>1</td>\n",
       "      <td>Кировская область</td>\n",
       "      <td>['Мокрое']</td>\n",
       "      <td>3</td>\n",
       "      <td>['Все участники']</td>\n",
       "    </tr>\n",
       "    <tr>\n",
       "      <th>1</th>\n",
       "      <td>[47.87903, 57.304807]</td>\n",
       "      <td>2889433</td>\n",
       "      <td>Дорожно-транспортные происшествия</td>\n",
       "      <td>Светлое время суток</td>\n",
       "      <td>57.304807</td>\n",
       "      <td>47.879030</td>\n",
       "      <td>['Административные здания', 'Нерегулируемый пе...</td>\n",
       "      <td>Яранский район</td>\n",
       "      <td>710.0</td>\n",
       "      <td>г Яранск, ул Кирова, 10</td>\n",
       "      <td>['Ясно']</td>\n",
       "      <td>Наезд на пешехода</td>\n",
       "      <td>2023-09-12 17:10:00</td>\n",
       "      <td>1</td>\n",
       "      <td>Кировская область</td>\n",
       "      <td>['Сухое', 'Отсутствие, плохая различимость гор...</td>\n",
       "      <td>2</td>\n",
       "      <td>['Все участники', 'Пешеходы']</td>\n",
       "    </tr>\n",
       "    <tr>\n",
       "      <th>2</th>\n",
       "      <td>[47.840781, 57.297156]</td>\n",
       "      <td>2591208</td>\n",
       "      <td>Дорожно-транспортные происшествия</td>\n",
       "      <td>Сумерки</td>\n",
       "      <td>57.297156</td>\n",
       "      <td>47.840781</td>\n",
       "      <td>['Жилые дома индивидуальной застройки', 'Нерег...</td>\n",
       "      <td>Яранский район</td>\n",
       "      <td>NaN</td>\n",
       "      <td>г Яранск, ул Чапаева, 80</td>\n",
       "      <td>['Пасмурно']</td>\n",
       "      <td>Съезд с дороги</td>\n",
       "      <td>2021-07-02 21:25:00</td>\n",
       "      <td>1</td>\n",
       "      <td>Кировская область</td>\n",
       "      <td>['Мокрое']</td>\n",
       "      <td>1</td>\n",
       "      <td>['Все участники']</td>\n",
       "    </tr>\n",
       "    <tr>\n",
       "      <th>3</th>\n",
       "      <td>[47.834365, 57.244775]</td>\n",
       "      <td>2577639</td>\n",
       "      <td>Дорожно-транспортные происшествия</td>\n",
       "      <td>Светлое время суток</td>\n",
       "      <td>57.244775</td>\n",
       "      <td>47.834365</td>\n",
       "      <td>['Жилые дома индивидуальной застройки']</td>\n",
       "      <td>Яранский район</td>\n",
       "      <td>200.0</td>\n",
       "      <td>м Знаменка, ул Кирова, 15</td>\n",
       "      <td>['Пасмурно']</td>\n",
       "      <td>Столкновение</td>\n",
       "      <td>2021-05-31 18:55:00</td>\n",
       "      <td>1</td>\n",
       "      <td>Кировская область</td>\n",
       "      <td>['Сухое']</td>\n",
       "      <td>2</td>\n",
       "      <td>['Все участники', 'Мотоциклисты']</td>\n",
       "    </tr>\n",
       "    <tr>\n",
       "      <th>4</th>\n",
       "      <td>[47.968197, 57.357738]</td>\n",
       "      <td>1981026</td>\n",
       "      <td>Дорожно-транспортные происшествия</td>\n",
       "      <td>Светлое время суток</td>\n",
       "      <td>57.357738</td>\n",
       "      <td>47.968197</td>\n",
       "      <td>['Нерегулируемый перекрёсток неравнозначных ул...</td>\n",
       "      <td>Яранский район</td>\n",
       "      <td>NaN</td>\n",
       "      <td>с/п Никольское, Киров-Советск- Яранск - подъез...</td>\n",
       "      <td>['Ясно']</td>\n",
       "      <td>Опрокидывание</td>\n",
       "      <td>2018-05-16 16:25:00</td>\n",
       "      <td>2</td>\n",
       "      <td>Кировская область</td>\n",
       "      <td>['Сухое', 'Отсутствие, плохая различимость гор...</td>\n",
       "      <td>2</td>\n",
       "      <td>['Все участники']</td>\n",
       "    </tr>\n",
       "  </tbody>\n",
       "</table>\n",
       "</div>"
      ],
      "text/plain": [
       "     geometry_coordinates       id                               tags  \\\n",
       "0   [47.875603, 57.24379]  1983180  Дорожно-транспортные происшествия   \n",
       "1   [47.87903, 57.304807]  2889433  Дорожно-транспортные происшествия   \n",
       "2  [47.840781, 57.297156]  2591208  Дорожно-транспортные происшествия   \n",
       "3  [47.834365, 57.244775]  2577639  Дорожно-транспортные происшествия   \n",
       "4  [47.968197, 57.357738]  1981026  Дорожно-транспортные происшествия   \n",
       "\n",
       "                 light  point_lat  point_long  \\\n",
       "0  Светлое время суток  57.243790   47.875603   \n",
       "1  Светлое время суток  57.304807   47.879030   \n",
       "2              Сумерки  57.297156   47.840781   \n",
       "3  Светлое время суток  57.244775   47.834365   \n",
       "4  Светлое время суток  57.357738   47.968197   \n",
       "\n",
       "                                              nearby          region  scheme  \\\n",
       "0                                                 []  Яранский район   600.0   \n",
       "1  ['Административные здания', 'Нерегулируемый пе...  Яранский район   710.0   \n",
       "2  ['Жилые дома индивидуальной застройки', 'Нерег...  Яранский район     NaN   \n",
       "3            ['Жилые дома индивидуальной застройки']  Яранский район   200.0   \n",
       "4  ['Нерегулируемый перекрёсток неравнозначных ул...  Яранский район     NaN   \n",
       "\n",
       "                                             address       weather  \\\n",
       "0  Р-176 Вятка Чебоксары - Йошкар-Ола - Киров - С...     ['Дождь']   \n",
       "1                            г Яранск, ул Кирова, 10      ['Ясно']   \n",
       "2                           г Яранск, ул Чапаева, 80  ['Пасмурно']   \n",
       "3                          м Знаменка, ул Кирова, 15  ['Пасмурно']   \n",
       "4  с/п Никольское, Киров-Советск- Яранск - подъез...      ['Ясно']   \n",
       "\n",
       "            category            datetime  injured_count      parent_region  \\\n",
       "0      Опрокидывание 2017-07-01 18:00:00              1  Кировская область   \n",
       "1  Наезд на пешехода 2023-09-12 17:10:00              1  Кировская область   \n",
       "2     Съезд с дороги 2021-07-02 21:25:00              1  Кировская область   \n",
       "3       Столкновение 2021-05-31 18:55:00              1  Кировская область   \n",
       "4      Опрокидывание 2018-05-16 16:25:00              2  Кировская область   \n",
       "\n",
       "                                     road_conditions  participants_count  \\\n",
       "0                                         ['Мокрое']                   3   \n",
       "1  ['Сухое', 'Отсутствие, плохая различимость гор...                   2   \n",
       "2                                         ['Мокрое']                   1   \n",
       "3                                          ['Сухое']                   2   \n",
       "4  ['Сухое', 'Отсутствие, плохая различимость гор...                   2   \n",
       "\n",
       "              participant_categories  \n",
       "0                  ['Все участники']  \n",
       "1      ['Все участники', 'Пешеходы']  \n",
       "2                  ['Все участники']  \n",
       "3  ['Все участники', 'Мотоциклисты']  \n",
       "4                  ['Все участники']  "
      ]
     },
     "metadata": {},
     "output_type": "display_data"
    },
    {
     "data": {
      "text/plain": [
       "geometry_coordinates         0\n",
       "id                           0\n",
       "tags                         0\n",
       "light                        0\n",
       "point_lat                   32\n",
       "point_long                  32\n",
       "nearby                       0\n",
       "region                       0\n",
       "scheme                    1137\n",
       "address                    674\n",
       "weather                      0\n",
       "category                     0\n",
       "datetime                     0\n",
       "injured_count                0\n",
       "parent_region                0\n",
       "road_conditions              0\n",
       "participants_count           0\n",
       "participant_categories       0\n",
       "dtype: int64"
      ]
     },
     "metadata": {},
     "output_type": "display_data"
    },
    {
     "data": {
      "text/plain": [
       "geometry_coordinates      0.00\n",
       "id                        0.00\n",
       "tags                      0.00\n",
       "light                     0.00\n",
       "point_lat                 0.22\n",
       "point_long                0.22\n",
       "nearby                    0.00\n",
       "region                    0.00\n",
       "scheme                    7.83\n",
       "address                   4.64\n",
       "weather                   0.00\n",
       "category                  0.00\n",
       "datetime                  0.00\n",
       "injured_count             0.00\n",
       "parent_region             0.00\n",
       "road_conditions           0.00\n",
       "participants_count        0.00\n",
       "participant_categories    0.00\n",
       "dtype: float64"
      ]
     },
     "metadata": {},
     "output_type": "display_data"
    }
   ],
   "source": [
    "display(ko.head())\n",
    "display(ko.isna().sum())\n",
    "display(round(ko.isna().sum()*100/ko.shape[0], 2))"
   ]
  },
  {
   "cell_type": "markdown",
   "metadata": {},
   "source": [
    "В 32 строках из 14517 отсутствует информация о координатах ДТП, что может быть следствием технических неполадок. Это всего 0.22%, кроме того, данные о координатах могут не использоваться в дальнейшем в агрегирующих функциях, так что этими пропусками можно пренебречь.\n",
    "\n",
    "Пропуски в схемах ДТП составляют почти 8%. Возможно, они возникли вследствие человеческого фактора или невозможности определить конкретную схему ДТП (судя по всему, данные в этом столбце представляют собой некие ссылки на стандартные схемы). Эти данные также вряд ли будут использоваться в агрегирующих функциях, поэтому и на эти пропуски можно закрыть глаза и ничего с ними не делать.\n",
    "\n",
    "Пропуски в графе с адресом составляют почти 5%. Они могут быть связаны с невозможностью определить конкретный адрес (например, на загородных трассах) или опять же с человеческим фактором. Эти данные также можно не трогать."
   ]
  },
  {
   "cell_type": "markdown",
   "metadata": {},
   "source": [
    "Если же стоит задача максимально очистить данные, можно удалить строки с отсутствующими координатами, однако схемы и адреса трогать не стоит - слишком большой процент пропусков."
   ]
  },
  {
   "cell_type": "markdown",
   "metadata": {
    "id": "8J3L9kYZ8XZx"
   },
   "source": [
    "### Наличие явных и неявных дубликатов в данных"
   ]
  },
  {
   "cell_type": "markdown",
   "metadata": {
    "id": "1cAm27OH8gKN"
   },
   "source": [
    "Есть ли явные дубликаты в данных, какой это процент значений?"
   ]
  },
  {
   "cell_type": "code",
   "execution_count": 110,
   "metadata": {},
   "outputs": [
    {
     "data": {
      "text/plain": [
       "np.float64(0.0)"
      ]
     },
     "metadata": {},
     "output_type": "display_data"
    },
    {
     "data": {
      "text/plain": [
       "np.float64(0.0)"
      ]
     },
     "metadata": {},
     "output_type": "display_data"
    },
    {
     "data": {
      "text/plain": [
       "np.float64(31.14)"
      ]
     },
     "metadata": {},
     "output_type": "display_data"
    },
    {
     "data": {
      "text/plain": [
       "np.float64(37.22)"
      ]
     },
     "metadata": {},
     "output_type": "display_data"
    },
    {
     "data": {
      "text/plain": [
       "np.float64(0.09)"
      ]
     },
     "metadata": {},
     "output_type": "display_data"
    },
    {
     "data": {
      "text/plain": [
       "np.float64(0.09)"
      ]
     },
     "metadata": {},
     "output_type": "display_data"
    }
   ],
   "source": [
    "display(round(ko.duplicated().sum()*100/ko.shape[0], 2))\n",
    "display(round(100*mo.duplicated().sum()/mo.shape[0], 2))\n",
    "display(round(100*ko_part.duplicated().sum()/ko_part.shape[0], 2))\n",
    "display(round(100*mo_part.duplicated().sum()/mo_part.shape[0], 2))\n",
    "display(round(100*ko_v.duplicated().sum()/ko_v.shape[0], 2))\n",
    "display(round(100*mo_v.duplicated().sum()/mo_v.shape[0], 2))"
   ]
  },
  {
   "cell_type": "markdown",
   "metadata": {},
   "source": [
    "Процент явных дубликатов в таблицах с участниками ДТП довольно высок (31-37%)- вероятно, появлялись повторные записи при повторных ДТП. Их можно удалить.\n",
    "\n",
    "Также 0.09% полностью повторяющихся записей есть в таблицах с данными о транспортных средствах. Их тем более можно удалить."
   ]
  },
  {
   "cell_type": "code",
   "execution_count": 111,
   "metadata": {},
   "outputs": [
    {
     "name": "stdout",
     "output_type": "stream",
     "text": [
      "<class 'pandas.core.frame.DataFrame'>\n",
      "RangeIndex: 21508 entries, 0 to 21507\n",
      "Data columns (total 6 columns):\n",
      " #   Column                       Non-Null Count  Dtype  \n",
      "---  ------                       --------------  -----  \n",
      " 0   role                         21508 non-null  object \n",
      " 1   gender                       20951 non-null  object \n",
      " 2   violations                   21508 non-null  object \n",
      " 3   health_status                21443 non-null  object \n",
      " 4   years_of_driving_experience  11144 non-null  float64\n",
      " 5   id                           21508 non-null  int64  \n",
      "dtypes: float64(1), int64(1), object(4)\n",
      "memory usage: 1008.3+ KB\n"
     ]
    },
    {
     "data": {
      "text/plain": [
       "None"
      ]
     },
     "metadata": {},
     "output_type": "display_data"
    }
   ],
   "source": [
    "ko_part = ko_part.drop_duplicates(keep='first', inplace=False, ignore_index=True)\n",
    "display(ko_part.info())"
   ]
  },
  {
   "cell_type": "code",
   "execution_count": 112,
   "metadata": {},
   "outputs": [
    {
     "name": "stdout",
     "output_type": "stream",
     "text": [
      "<class 'pandas.core.frame.DataFrame'>\n",
      "RangeIndex: 59749 entries, 0 to 59748\n",
      "Data columns (total 6 columns):\n",
      " #   Column                       Non-Null Count  Dtype  \n",
      "---  ------                       --------------  -----  \n",
      " 0   role                         59749 non-null  object \n",
      " 1   gender                       58563 non-null  object \n",
      " 2   violations                   59749 non-null  object \n",
      " 3   health_status                59689 non-null  object \n",
      " 4   years_of_driving_experience  35151 non-null  float64\n",
      " 5   id                           59749 non-null  int64  \n",
      "dtypes: float64(1), int64(1), object(4)\n",
      "memory usage: 2.7+ MB\n"
     ]
    },
    {
     "data": {
      "text/plain": [
       "None"
      ]
     },
     "metadata": {},
     "output_type": "display_data"
    }
   ],
   "source": [
    "mo_part = mo_part.drop_duplicates(keep='first', inplace=False, ignore_index=True)\n",
    "display(mo_part.info())"
   ]
  },
  {
   "cell_type": "code",
   "execution_count": 113,
   "metadata": {},
   "outputs": [
    {
     "name": "stdout",
     "output_type": "stream",
     "text": [
      "<class 'pandas.core.frame.DataFrame'>\n",
      "RangeIndex: 20075 entries, 0 to 20074\n",
      "Data columns (total 6 columns):\n",
      " #   Column    Non-Null Count  Dtype  \n",
      "---  ------    --------------  -----  \n",
      " 0   year      19291 non-null  float64\n",
      " 1   brand     19310 non-null  object \n",
      " 2   color     19632 non-null  object \n",
      " 3   model     19310 non-null  object \n",
      " 4   category  20075 non-null  object \n",
      " 5   id        20075 non-null  int64  \n",
      "dtypes: float64(1), int64(1), object(4)\n",
      "memory usage: 941.1+ KB\n"
     ]
    },
    {
     "data": {
      "text/plain": [
       "None"
      ]
     },
     "metadata": {},
     "output_type": "display_data"
    },
    {
     "data": {
      "text/html": [
       "<div>\n",
       "<style scoped>\n",
       "    .dataframe tbody tr th:only-of-type {\n",
       "        vertical-align: middle;\n",
       "    }\n",
       "\n",
       "    .dataframe tbody tr th {\n",
       "        vertical-align: top;\n",
       "    }\n",
       "\n",
       "    .dataframe thead th {\n",
       "        text-align: right;\n",
       "    }\n",
       "</style>\n",
       "<table border=\"1\" class=\"dataframe\">\n",
       "  <thead>\n",
       "    <tr style=\"text-align: right;\">\n",
       "      <th></th>\n",
       "      <th>year</th>\n",
       "      <th>brand</th>\n",
       "      <th>color</th>\n",
       "      <th>model</th>\n",
       "      <th>category</th>\n",
       "      <th>id</th>\n",
       "    </tr>\n",
       "  </thead>\n",
       "  <tbody>\n",
       "    <tr>\n",
       "      <th>0</th>\n",
       "      <td>2011.0</td>\n",
       "      <td>ВАЗ</td>\n",
       "      <td>Серый</td>\n",
       "      <td>Kalina</td>\n",
       "      <td>А-класс (особо малый) до 3,5 м</td>\n",
       "      <td>1983180</td>\n",
       "    </tr>\n",
       "    <tr>\n",
       "      <th>1</th>\n",
       "      <td>2005.0</td>\n",
       "      <td>CHEVROLET</td>\n",
       "      <td>Зеленый</td>\n",
       "      <td>Niva</td>\n",
       "      <td>С-класс (малый средний, компактный) до 4,3 м</td>\n",
       "      <td>2889433</td>\n",
       "    </tr>\n",
       "    <tr>\n",
       "      <th>2</th>\n",
       "      <td>2017.0</td>\n",
       "      <td>RENAULT</td>\n",
       "      <td>Синий</td>\n",
       "      <td>Logan</td>\n",
       "      <td>С-класс (малый средний, компактный) до 4,3 м</td>\n",
       "      <td>2591208</td>\n",
       "    </tr>\n",
       "    <tr>\n",
       "      <th>3</th>\n",
       "      <td>2006.0</td>\n",
       "      <td>ВАЗ</td>\n",
       "      <td>Зеленый</td>\n",
       "      <td>ВАЗ 2115 и модификации</td>\n",
       "      <td>С-класс (малый средний, компактный) до 4,3 м</td>\n",
       "      <td>2577639</td>\n",
       "    </tr>\n",
       "    <tr>\n",
       "      <th>4</th>\n",
       "      <td>1986.0</td>\n",
       "      <td>MERCEDES</td>\n",
       "      <td>Зеленый</td>\n",
       "      <td>Прочие модели Mercedes</td>\n",
       "      <td>Фургоны</td>\n",
       "      <td>1981026</td>\n",
       "    </tr>\n",
       "  </tbody>\n",
       "</table>\n",
       "</div>"
      ],
      "text/plain": [
       "     year      brand    color                   model  \\\n",
       "0  2011.0        ВАЗ    Серый                  Kalina   \n",
       "1  2005.0  CHEVROLET  Зеленый                    Niva   \n",
       "2  2017.0    RENAULT    Синий                   Logan   \n",
       "3  2006.0        ВАЗ  Зеленый  ВАЗ 2115 и модификации   \n",
       "4  1986.0   MERCEDES  Зеленый  Прочие модели Mercedes   \n",
       "\n",
       "                                       category       id  \n",
       "0                А-класс (особо малый) до 3,5 м  1983180  \n",
       "1  С-класс (малый средний, компактный) до 4,3 м  2889433  \n",
       "2  С-класс (малый средний, компактный) до 4,3 м  2591208  \n",
       "3  С-класс (малый средний, компактный) до 4,3 м  2577639  \n",
       "4                                       Фургоны  1981026  "
      ]
     },
     "metadata": {},
     "output_type": "display_data"
    }
   ],
   "source": [
    "ko_v = ko_v.drop_duplicates(keep='first', inplace=False, ignore_index=True)\n",
    "display(ko_v.info())\n",
    "display(ko_v.head())"
   ]
  },
  {
   "cell_type": "code",
   "execution_count": 114,
   "metadata": {},
   "outputs": [
    {
     "name": "stdout",
     "output_type": "stream",
     "text": [
      "<class 'pandas.core.frame.DataFrame'>\n",
      "RangeIndex: 20075 entries, 0 to 20074\n",
      "Data columns (total 6 columns):\n",
      " #   Column    Non-Null Count  Dtype  \n",
      "---  ------    --------------  -----  \n",
      " 0   year      19291 non-null  float64\n",
      " 1   brand     19310 non-null  object \n",
      " 2   color     19632 non-null  object \n",
      " 3   model     19310 non-null  object \n",
      " 4   category  20075 non-null  object \n",
      " 5   id        20075 non-null  int64  \n",
      "dtypes: float64(1), int64(1), object(4)\n",
      "memory usage: 941.1+ KB\n"
     ]
    },
    {
     "data": {
      "text/plain": [
       "None"
      ]
     },
     "metadata": {},
     "output_type": "display_data"
    },
    {
     "data": {
      "text/html": [
       "<div>\n",
       "<style scoped>\n",
       "    .dataframe tbody tr th:only-of-type {\n",
       "        vertical-align: middle;\n",
       "    }\n",
       "\n",
       "    .dataframe tbody tr th {\n",
       "        vertical-align: top;\n",
       "    }\n",
       "\n",
       "    .dataframe thead th {\n",
       "        text-align: right;\n",
       "    }\n",
       "</style>\n",
       "<table border=\"1\" class=\"dataframe\">\n",
       "  <thead>\n",
       "    <tr style=\"text-align: right;\">\n",
       "      <th></th>\n",
       "      <th>year</th>\n",
       "      <th>brand</th>\n",
       "      <th>color</th>\n",
       "      <th>model</th>\n",
       "      <th>category</th>\n",
       "      <th>id</th>\n",
       "    </tr>\n",
       "  </thead>\n",
       "  <tbody>\n",
       "    <tr>\n",
       "      <th>0</th>\n",
       "      <td>2011.0</td>\n",
       "      <td>ВАЗ</td>\n",
       "      <td>Серый</td>\n",
       "      <td>Kalina</td>\n",
       "      <td>А-класс (особо малый) до 3,5 м</td>\n",
       "      <td>1983180</td>\n",
       "    </tr>\n",
       "    <tr>\n",
       "      <th>1</th>\n",
       "      <td>2005.0</td>\n",
       "      <td>CHEVROLET</td>\n",
       "      <td>Зеленый</td>\n",
       "      <td>Niva</td>\n",
       "      <td>С-класс (малый средний, компактный) до 4,3 м</td>\n",
       "      <td>2889433</td>\n",
       "    </tr>\n",
       "    <tr>\n",
       "      <th>2</th>\n",
       "      <td>2017.0</td>\n",
       "      <td>RENAULT</td>\n",
       "      <td>Синий</td>\n",
       "      <td>Logan</td>\n",
       "      <td>С-класс (малый средний, компактный) до 4,3 м</td>\n",
       "      <td>2591208</td>\n",
       "    </tr>\n",
       "    <tr>\n",
       "      <th>3</th>\n",
       "      <td>2006.0</td>\n",
       "      <td>ВАЗ</td>\n",
       "      <td>Зеленый</td>\n",
       "      <td>ВАЗ 2115 и модификации</td>\n",
       "      <td>С-класс (малый средний, компактный) до 4,3 м</td>\n",
       "      <td>2577639</td>\n",
       "    </tr>\n",
       "    <tr>\n",
       "      <th>4</th>\n",
       "      <td>1986.0</td>\n",
       "      <td>MERCEDES</td>\n",
       "      <td>Зеленый</td>\n",
       "      <td>Прочие модели Mercedes</td>\n",
       "      <td>Фургоны</td>\n",
       "      <td>1981026</td>\n",
       "    </tr>\n",
       "  </tbody>\n",
       "</table>\n",
       "</div>"
      ],
      "text/plain": [
       "     year      brand    color                   model  \\\n",
       "0  2011.0        ВАЗ    Серый                  Kalina   \n",
       "1  2005.0  CHEVROLET  Зеленый                    Niva   \n",
       "2  2017.0    RENAULT    Синий                   Logan   \n",
       "3  2006.0        ВАЗ  Зеленый  ВАЗ 2115 и модификации   \n",
       "4  1986.0   MERCEDES  Зеленый  Прочие модели Mercedes   \n",
       "\n",
       "                                       category       id  \n",
       "0                А-класс (особо малый) до 3,5 м  1983180  \n",
       "1  С-класс (малый средний, компактный) до 4,3 м  2889433  \n",
       "2  С-класс (малый средний, компактный) до 4,3 м  2591208  \n",
       "3  С-класс (малый средний, компактный) до 4,3 м  2577639  \n",
       "4                                       Фургоны  1981026  "
      ]
     },
     "metadata": {},
     "output_type": "display_data"
    }
   ],
   "source": [
    "mo_v = mo_v.drop_duplicates(keep='first', inplace=False, ignore_index=True)\n",
    "display(mo_v.info())\n",
    "display(mo_v.head())"
   ]
  },
  {
   "cell_type": "markdown",
   "metadata": {},
   "source": [
    "Вообще, судя по одинаковому количеству записей в таблицах с транспортнымии средствами, участвовавшими в ДТП в Кировской и в Московской области, мможно предположить, что данные в этих таблицах дублируются."
   ]
  },
  {
   "cell_type": "code",
   "execution_count": 115,
   "metadata": {},
   "outputs": [
    {
     "data": {
      "text/html": [
       "<div>\n",
       "<style scoped>\n",
       "    .dataframe tbody tr th:only-of-type {\n",
       "        vertical-align: middle;\n",
       "    }\n",
       "\n",
       "    .dataframe tbody tr th {\n",
       "        vertical-align: top;\n",
       "    }\n",
       "\n",
       "    .dataframe thead th {\n",
       "        text-align: right;\n",
       "    }\n",
       "</style>\n",
       "<table border=\"1\" class=\"dataframe\">\n",
       "  <thead>\n",
       "    <tr style=\"text-align: right;\">\n",
       "      <th></th>\n",
       "      <th>self</th>\n",
       "      <th>other</th>\n",
       "    </tr>\n",
       "  </thead>\n",
       "  <tbody>\n",
       "    <tr>\n",
       "      <th>0</th>\n",
       "      <td>1983180</td>\n",
       "      <td>1983180</td>\n",
       "    </tr>\n",
       "    <tr>\n",
       "      <th>1</th>\n",
       "      <td>2889433</td>\n",
       "      <td>2889433</td>\n",
       "    </tr>\n",
       "    <tr>\n",
       "      <th>2</th>\n",
       "      <td>2591208</td>\n",
       "      <td>2591208</td>\n",
       "    </tr>\n",
       "    <tr>\n",
       "      <th>3</th>\n",
       "      <td>2577639</td>\n",
       "      <td>2577639</td>\n",
       "    </tr>\n",
       "    <tr>\n",
       "      <th>4</th>\n",
       "      <td>1981026</td>\n",
       "      <td>1981026</td>\n",
       "    </tr>\n",
       "    <tr>\n",
       "      <th>...</th>\n",
       "      <td>...</td>\n",
       "      <td>...</td>\n",
       "    </tr>\n",
       "    <tr>\n",
       "      <th>20070</th>\n",
       "      <td>2693288</td>\n",
       "      <td>2693288</td>\n",
       "    </tr>\n",
       "    <tr>\n",
       "      <th>20071</th>\n",
       "      <td>2649405</td>\n",
       "      <td>2649405</td>\n",
       "    </tr>\n",
       "    <tr>\n",
       "      <th>20072</th>\n",
       "      <td>1985567</td>\n",
       "      <td>1985567</td>\n",
       "    </tr>\n",
       "    <tr>\n",
       "      <th>20073</th>\n",
       "      <td>1984910</td>\n",
       "      <td>1984910</td>\n",
       "    </tr>\n",
       "    <tr>\n",
       "      <th>20074</th>\n",
       "      <td>1984276</td>\n",
       "      <td>1984276</td>\n",
       "    </tr>\n",
       "  </tbody>\n",
       "</table>\n",
       "<p>20075 rows × 2 columns</p>\n",
       "</div>"
      ],
      "text/plain": [
       "          self    other\n",
       "0      1983180  1983180\n",
       "1      2889433  2889433\n",
       "2      2591208  2591208\n",
       "3      2577639  2577639\n",
       "4      1981026  1981026\n",
       "...        ...      ...\n",
       "20070  2693288  2693288\n",
       "20071  2649405  2649405\n",
       "20072  1985567  1985567\n",
       "20073  1984910  1984910\n",
       "20074  1984276  1984276\n",
       "\n",
       "[20075 rows x 2 columns]"
      ]
     },
     "execution_count": 115,
     "metadata": {},
     "output_type": "execute_result"
    }
   ],
   "source": [
    "ko_v['id'].compare(mo_v['id'], keep_shape=True, keep_equal=True)"
   ]
  },
  {
   "cell_type": "code",
   "execution_count": 116,
   "metadata": {},
   "outputs": [
    {
     "data": {
      "text/plain": [
       "np.int64(0)"
      ]
     },
     "metadata": {},
     "output_type": "display_data"
    }
   ],
   "source": [
    "dif = ko_v['id'] - mo_v['id']\n",
    "display(dif.isna().sum())"
   ]
  },
  {
   "cell_type": "markdown",
   "metadata": {},
   "source": [
    "Таким образом мы получили, что можно использовать только одну таблицу с данными о транспортных средствах."
   ]
  },
  {
   "cell_type": "markdown",
   "metadata": {
    "id": "FQyJB_QL-GQB"
   },
   "source": [
    "### Проверка корректности типов данных"
   ]
  },
  {
   "cell_type": "markdown",
   "metadata": {},
   "source": [
    "Столбцы с датами мы уже привели к нужному типу. Разберёмся с числовыми столбцами."
   ]
  },
  {
   "cell_type": "code",
   "execution_count": 117,
   "metadata": {},
   "outputs": [
    {
     "data": {
      "text/html": [
       "<div>\n",
       "<style scoped>\n",
       "    .dataframe tbody tr th:only-of-type {\n",
       "        vertical-align: middle;\n",
       "    }\n",
       "\n",
       "    .dataframe tbody tr th {\n",
       "        vertical-align: top;\n",
       "    }\n",
       "\n",
       "    .dataframe thead th {\n",
       "        text-align: right;\n",
       "    }\n",
       "</style>\n",
       "<table border=\"1\" class=\"dataframe\">\n",
       "  <thead>\n",
       "    <tr style=\"text-align: right;\">\n",
       "      <th></th>\n",
       "      <th>geometry_coordinates</th>\n",
       "      <th>id</th>\n",
       "      <th>tags</th>\n",
       "      <th>light</th>\n",
       "      <th>point_lat</th>\n",
       "      <th>point_long</th>\n",
       "      <th>nearby</th>\n",
       "      <th>region</th>\n",
       "      <th>scheme</th>\n",
       "      <th>address</th>\n",
       "      <th>weather</th>\n",
       "      <th>category</th>\n",
       "      <th>datetime</th>\n",
       "      <th>injured_count</th>\n",
       "      <th>parent_region</th>\n",
       "      <th>road_conditions</th>\n",
       "      <th>participants_count</th>\n",
       "      <th>participant_categories</th>\n",
       "    </tr>\n",
       "  </thead>\n",
       "  <tbody>\n",
       "    <tr>\n",
       "      <th>0</th>\n",
       "      <td>[47.875603, 57.24379]</td>\n",
       "      <td>1983180</td>\n",
       "      <td>Дорожно-транспортные происшествия</td>\n",
       "      <td>Светлое время суток</td>\n",
       "      <td>57.243790</td>\n",
       "      <td>47.875603</td>\n",
       "      <td>[]</td>\n",
       "      <td>Яранский район</td>\n",
       "      <td>600.0</td>\n",
       "      <td>Р-176 Вятка Чебоксары - Йошкар-Ола - Киров - С...</td>\n",
       "      <td>['Дождь']</td>\n",
       "      <td>Опрокидывание</td>\n",
       "      <td>2017-07-01 18:00:00</td>\n",
       "      <td>1</td>\n",
       "      <td>Кировская область</td>\n",
       "      <td>['Мокрое']</td>\n",
       "      <td>3</td>\n",
       "      <td>['Все участники']</td>\n",
       "    </tr>\n",
       "    <tr>\n",
       "      <th>1</th>\n",
       "      <td>[47.87903, 57.304807]</td>\n",
       "      <td>2889433</td>\n",
       "      <td>Дорожно-транспортные происшествия</td>\n",
       "      <td>Светлое время суток</td>\n",
       "      <td>57.304807</td>\n",
       "      <td>47.879030</td>\n",
       "      <td>['Административные здания', 'Нерегулируемый пе...</td>\n",
       "      <td>Яранский район</td>\n",
       "      <td>710.0</td>\n",
       "      <td>г Яранск, ул Кирова, 10</td>\n",
       "      <td>['Ясно']</td>\n",
       "      <td>Наезд на пешехода</td>\n",
       "      <td>2023-09-12 17:10:00</td>\n",
       "      <td>1</td>\n",
       "      <td>Кировская область</td>\n",
       "      <td>['Сухое', 'Отсутствие, плохая различимость гор...</td>\n",
       "      <td>2</td>\n",
       "      <td>['Все участники', 'Пешеходы']</td>\n",
       "    </tr>\n",
       "    <tr>\n",
       "      <th>2</th>\n",
       "      <td>[47.840781, 57.297156]</td>\n",
       "      <td>2591208</td>\n",
       "      <td>Дорожно-транспортные происшествия</td>\n",
       "      <td>Сумерки</td>\n",
       "      <td>57.297156</td>\n",
       "      <td>47.840781</td>\n",
       "      <td>['Жилые дома индивидуальной застройки', 'Нерег...</td>\n",
       "      <td>Яранский район</td>\n",
       "      <td>NaN</td>\n",
       "      <td>г Яранск, ул Чапаева, 80</td>\n",
       "      <td>['Пасмурно']</td>\n",
       "      <td>Съезд с дороги</td>\n",
       "      <td>2021-07-02 21:25:00</td>\n",
       "      <td>1</td>\n",
       "      <td>Кировская область</td>\n",
       "      <td>['Мокрое']</td>\n",
       "      <td>1</td>\n",
       "      <td>['Все участники']</td>\n",
       "    </tr>\n",
       "    <tr>\n",
       "      <th>3</th>\n",
       "      <td>[47.834365, 57.244775]</td>\n",
       "      <td>2577639</td>\n",
       "      <td>Дорожно-транспортные происшествия</td>\n",
       "      <td>Светлое время суток</td>\n",
       "      <td>57.244775</td>\n",
       "      <td>47.834365</td>\n",
       "      <td>['Жилые дома индивидуальной застройки']</td>\n",
       "      <td>Яранский район</td>\n",
       "      <td>200.0</td>\n",
       "      <td>м Знаменка, ул Кирова, 15</td>\n",
       "      <td>['Пасмурно']</td>\n",
       "      <td>Столкновение</td>\n",
       "      <td>2021-05-31 18:55:00</td>\n",
       "      <td>1</td>\n",
       "      <td>Кировская область</td>\n",
       "      <td>['Сухое']</td>\n",
       "      <td>2</td>\n",
       "      <td>['Все участники', 'Мотоциклисты']</td>\n",
       "    </tr>\n",
       "    <tr>\n",
       "      <th>4</th>\n",
       "      <td>[47.968197, 57.357738]</td>\n",
       "      <td>1981026</td>\n",
       "      <td>Дорожно-транспортные происшествия</td>\n",
       "      <td>Светлое время суток</td>\n",
       "      <td>57.357738</td>\n",
       "      <td>47.968197</td>\n",
       "      <td>['Нерегулируемый перекрёсток неравнозначных ул...</td>\n",
       "      <td>Яранский район</td>\n",
       "      <td>NaN</td>\n",
       "      <td>с/п Никольское, Киров-Советск- Яранск - подъез...</td>\n",
       "      <td>['Ясно']</td>\n",
       "      <td>Опрокидывание</td>\n",
       "      <td>2018-05-16 16:25:00</td>\n",
       "      <td>2</td>\n",
       "      <td>Кировская область</td>\n",
       "      <td>['Сухое', 'Отсутствие, плохая различимость гор...</td>\n",
       "      <td>2</td>\n",
       "      <td>['Все участники']</td>\n",
       "    </tr>\n",
       "  </tbody>\n",
       "</table>\n",
       "</div>"
      ],
      "text/plain": [
       "     geometry_coordinates       id                               tags  \\\n",
       "0   [47.875603, 57.24379]  1983180  Дорожно-транспортные происшествия   \n",
       "1   [47.87903, 57.304807]  2889433  Дорожно-транспортные происшествия   \n",
       "2  [47.840781, 57.297156]  2591208  Дорожно-транспортные происшествия   \n",
       "3  [47.834365, 57.244775]  2577639  Дорожно-транспортные происшествия   \n",
       "4  [47.968197, 57.357738]  1981026  Дорожно-транспортные происшествия   \n",
       "\n",
       "                 light  point_lat  point_long  \\\n",
       "0  Светлое время суток  57.243790   47.875603   \n",
       "1  Светлое время суток  57.304807   47.879030   \n",
       "2              Сумерки  57.297156   47.840781   \n",
       "3  Светлое время суток  57.244775   47.834365   \n",
       "4  Светлое время суток  57.357738   47.968197   \n",
       "\n",
       "                                              nearby          region  scheme  \\\n",
       "0                                                 []  Яранский район   600.0   \n",
       "1  ['Административные здания', 'Нерегулируемый пе...  Яранский район   710.0   \n",
       "2  ['Жилые дома индивидуальной застройки', 'Нерег...  Яранский район     NaN   \n",
       "3            ['Жилые дома индивидуальной застройки']  Яранский район   200.0   \n",
       "4  ['Нерегулируемый перекрёсток неравнозначных ул...  Яранский район     NaN   \n",
       "\n",
       "                                             address       weather  \\\n",
       "0  Р-176 Вятка Чебоксары - Йошкар-Ола - Киров - С...     ['Дождь']   \n",
       "1                            г Яранск, ул Кирова, 10      ['Ясно']   \n",
       "2                           г Яранск, ул Чапаева, 80  ['Пасмурно']   \n",
       "3                          м Знаменка, ул Кирова, 15  ['Пасмурно']   \n",
       "4  с/п Никольское, Киров-Советск- Яранск - подъез...      ['Ясно']   \n",
       "\n",
       "            category            datetime  injured_count      parent_region  \\\n",
       "0      Опрокидывание 2017-07-01 18:00:00              1  Кировская область   \n",
       "1  Наезд на пешехода 2023-09-12 17:10:00              1  Кировская область   \n",
       "2     Съезд с дороги 2021-07-02 21:25:00              1  Кировская область   \n",
       "3       Столкновение 2021-05-31 18:55:00              1  Кировская область   \n",
       "4      Опрокидывание 2018-05-16 16:25:00              2  Кировская область   \n",
       "\n",
       "                                     road_conditions  participants_count  \\\n",
       "0                                         ['Мокрое']                   3   \n",
       "1  ['Сухое', 'Отсутствие, плохая различимость гор...                   2   \n",
       "2                                         ['Мокрое']                   1   \n",
       "3                                          ['Сухое']                   2   \n",
       "4  ['Сухое', 'Отсутствие, плохая различимость гор...                   2   \n",
       "\n",
       "              participant_categories  \n",
       "0                  ['Все участники']  \n",
       "1      ['Все участники', 'Пешеходы']  \n",
       "2                  ['Все участники']  \n",
       "3  ['Все участники', 'Мотоциклисты']  \n",
       "4                  ['Все участники']  "
      ]
     },
     "metadata": {},
     "output_type": "display_data"
    },
    {
     "data": {
      "text/html": [
       "<div>\n",
       "<style scoped>\n",
       "    .dataframe tbody tr th:only-of-type {\n",
       "        vertical-align: middle;\n",
       "    }\n",
       "\n",
       "    .dataframe tbody tr th {\n",
       "        vertical-align: top;\n",
       "    }\n",
       "\n",
       "    .dataframe thead th {\n",
       "        text-align: right;\n",
       "    }\n",
       "</style>\n",
       "<table border=\"1\" class=\"dataframe\">\n",
       "  <thead>\n",
       "    <tr style=\"text-align: right;\">\n",
       "      <th></th>\n",
       "      <th>geometry_coordinates</th>\n",
       "      <th>id</th>\n",
       "      <th>tags</th>\n",
       "      <th>light</th>\n",
       "      <th>point_lat</th>\n",
       "      <th>point_long</th>\n",
       "      <th>nearby</th>\n",
       "      <th>region</th>\n",
       "      <th>scheme</th>\n",
       "      <th>address</th>\n",
       "      <th>weather</th>\n",
       "      <th>category</th>\n",
       "      <th>datetime</th>\n",
       "      <th>injured_count</th>\n",
       "      <th>parent_region</th>\n",
       "      <th>road_conditions</th>\n",
       "      <th>participants_count</th>\n",
       "      <th>participant_categories</th>\n",
       "    </tr>\n",
       "  </thead>\n",
       "  <tbody>\n",
       "    <tr>\n",
       "      <th>0</th>\n",
       "      <td>[37.5253, 55.9992]</td>\n",
       "      <td>2163589</td>\n",
       "      <td>['Дорожно-транспортные происшествия']</td>\n",
       "      <td>Светлое время суток</td>\n",
       "      <td>55.999200</td>\n",
       "      <td>37.525300</td>\n",
       "      <td>['Мост, эстакада, путепровод', 'Крупный торгов...</td>\n",
       "      <td>Мытищинский</td>\n",
       "      <td>NaN</td>\n",
       "      <td>ХЛЕБНИКОВО-РОГАЧЕВО, 0 км</td>\n",
       "      <td>['Ясно']</td>\n",
       "      <td>Столкновение</td>\n",
       "      <td>2019-01-31 09:05:00</td>\n",
       "      <td>1</td>\n",
       "      <td>Московская область</td>\n",
       "      <td>['Мокрое', 'Отсутствие, плохая различимость го...</td>\n",
       "      <td>3</td>\n",
       "      <td>['Все участники']</td>\n",
       "    </tr>\n",
       "    <tr>\n",
       "      <th>1</th>\n",
       "      <td>[37.058966, 55.788688]</td>\n",
       "      <td>2155398</td>\n",
       "      <td>['Дорожно-транспортные происшествия', 'ДТП и п...</td>\n",
       "      <td>В темное время суток, освещение включено</td>\n",
       "      <td>55.788688</td>\n",
       "      <td>37.058966</td>\n",
       "      <td>[]</td>\n",
       "      <td>Истринский</td>\n",
       "      <td>70.0</td>\n",
       "      <td>М-9 Балтия Москва - Волоколамск - граница с Ла...</td>\n",
       "      <td>['Ясно']</td>\n",
       "      <td>Столкновение</td>\n",
       "      <td>2018-09-22 05:00:00</td>\n",
       "      <td>2</td>\n",
       "      <td>Московская область</td>\n",
       "      <td>['Сухое']</td>\n",
       "      <td>4</td>\n",
       "      <td>['Все участники', 'Дети']</td>\n",
       "    </tr>\n",
       "    <tr>\n",
       "      <th>2</th>\n",
       "      <td>[37.4419, 56.0081]</td>\n",
       "      <td>2163319</td>\n",
       "      <td>['Дорожно-транспортные происшествия']</td>\n",
       "      <td>В темное время суток, освещение включено</td>\n",
       "      <td>56.008100</td>\n",
       "      <td>37.441900</td>\n",
       "      <td>['Многоквартирные жилые дома', 'Остановка обще...</td>\n",
       "      <td>Лобня</td>\n",
       "      <td>820.0</td>\n",
       "      <td>г Лобня, ул Ленина, 43</td>\n",
       "      <td>['Пасмурно']</td>\n",
       "      <td>Наезд на пешехода</td>\n",
       "      <td>2019-01-24 19:30:00</td>\n",
       "      <td>1</td>\n",
       "      <td>Московская область</td>\n",
       "      <td>['Обработанное противогололедными материалами']</td>\n",
       "      <td>2</td>\n",
       "      <td>['Все участники', 'Пешеходы']</td>\n",
       "    </tr>\n",
       "    <tr>\n",
       "      <th>3</th>\n",
       "      <td>[38.6614, 55.4358]</td>\n",
       "      <td>2143938</td>\n",
       "      <td>['Дорожно-транспортные происшествия']</td>\n",
       "      <td>Светлое время суток</td>\n",
       "      <td>55.435800</td>\n",
       "      <td>38.661400</td>\n",
       "      <td>['Регулируемый перекресток']</td>\n",
       "      <td>Воскресенский</td>\n",
       "      <td>300.0</td>\n",
       "      <td>ЖУКОВСКИЙ-РАМЕНСКОЕ-СТ.БРОННИЦЫ-ЧЕЧЕВИЛОВО-МБК...</td>\n",
       "      <td>['Ясно']</td>\n",
       "      <td>Столкновение</td>\n",
       "      <td>2018-01-25 16:00:00</td>\n",
       "      <td>2</td>\n",
       "      <td>Московская область</td>\n",
       "      <td>['Обработанное противогололедными материалами'...</td>\n",
       "      <td>3</td>\n",
       "      <td>['Все участники']</td>\n",
       "    </tr>\n",
       "    <tr>\n",
       "      <th>4</th>\n",
       "      <td>[38.29207, 55.50502]</td>\n",
       "      <td>2163390</td>\n",
       "      <td>['Дорожно-транспортные происшествия']</td>\n",
       "      <td>В темное время суток, освещение отсутствует</td>\n",
       "      <td>55.505020</td>\n",
       "      <td>38.292070</td>\n",
       "      <td>['Нерегулируемый перекрёсток неравнозначных ул...</td>\n",
       "      <td>Раменский</td>\n",
       "      <td>500.0</td>\n",
       "      <td>ММК-РАМЕНСКОЕ, 4 км</td>\n",
       "      <td>['Ясно']</td>\n",
       "      <td>Столкновение</td>\n",
       "      <td>2019-01-14 17:40:00</td>\n",
       "      <td>1</td>\n",
       "      <td>Московская область</td>\n",
       "      <td>['Обработанное противогололедными материалами']</td>\n",
       "      <td>2</td>\n",
       "      <td>['Все участники']</td>\n",
       "    </tr>\n",
       "  </tbody>\n",
       "</table>\n",
       "</div>"
      ],
      "text/plain": [
       "     geometry_coordinates       id  \\\n",
       "0      [37.5253, 55.9992]  2163589   \n",
       "1  [37.058966, 55.788688]  2155398   \n",
       "2      [37.4419, 56.0081]  2163319   \n",
       "3      [38.6614, 55.4358]  2143938   \n",
       "4    [38.29207, 55.50502]  2163390   \n",
       "\n",
       "                                                tags  \\\n",
       "0              ['Дорожно-транспортные происшествия']   \n",
       "1  ['Дорожно-транспортные происшествия', 'ДТП и п...   \n",
       "2              ['Дорожно-транспортные происшествия']   \n",
       "3              ['Дорожно-транспортные происшествия']   \n",
       "4              ['Дорожно-транспортные происшествия']   \n",
       "\n",
       "                                         light  point_lat  point_long  \\\n",
       "0                          Светлое время суток  55.999200   37.525300   \n",
       "1     В темное время суток, освещение включено  55.788688   37.058966   \n",
       "2     В темное время суток, освещение включено  56.008100   37.441900   \n",
       "3                          Светлое время суток  55.435800   38.661400   \n",
       "4  В темное время суток, освещение отсутствует  55.505020   38.292070   \n",
       "\n",
       "                                              nearby         region  scheme  \\\n",
       "0  ['Мост, эстакада, путепровод', 'Крупный торгов...    Мытищинский     NaN   \n",
       "1                                                 []     Истринский    70.0   \n",
       "2  ['Многоквартирные жилые дома', 'Остановка обще...          Лобня   820.0   \n",
       "3                       ['Регулируемый перекресток']  Воскресенский   300.0   \n",
       "4  ['Нерегулируемый перекрёсток неравнозначных ул...      Раменский   500.0   \n",
       "\n",
       "                                             address       weather  \\\n",
       "0                          ХЛЕБНИКОВО-РОГАЧЕВО, 0 км      ['Ясно']   \n",
       "1  М-9 Балтия Москва - Волоколамск - граница с Ла...      ['Ясно']   \n",
       "2                             г Лобня, ул Ленина, 43  ['Пасмурно']   \n",
       "3  ЖУКОВСКИЙ-РАМЕНСКОЕ-СТ.БРОННИЦЫ-ЧЕЧЕВИЛОВО-МБК...      ['Ясно']   \n",
       "4                                ММК-РАМЕНСКОЕ, 4 км      ['Ясно']   \n",
       "\n",
       "            category            datetime  injured_count       parent_region  \\\n",
       "0       Столкновение 2019-01-31 09:05:00              1  Московская область   \n",
       "1       Столкновение 2018-09-22 05:00:00              2  Московская область   \n",
       "2  Наезд на пешехода 2019-01-24 19:30:00              1  Московская область   \n",
       "3       Столкновение 2018-01-25 16:00:00              2  Московская область   \n",
       "4       Столкновение 2019-01-14 17:40:00              1  Московская область   \n",
       "\n",
       "                                     road_conditions  participants_count  \\\n",
       "0  ['Мокрое', 'Отсутствие, плохая различимость го...                   3   \n",
       "1                                          ['Сухое']                   4   \n",
       "2    ['Обработанное противогололедными материалами']                   2   \n",
       "3  ['Обработанное противогололедными материалами'...                   3   \n",
       "4    ['Обработанное противогололедными материалами']                   2   \n",
       "\n",
       "          participant_categories  \n",
       "0              ['Все участники']  \n",
       "1      ['Все участники', 'Дети']  \n",
       "2  ['Все участники', 'Пешеходы']  \n",
       "3              ['Все участники']  \n",
       "4              ['Все участники']  "
      ]
     },
     "metadata": {},
     "output_type": "display_data"
    },
    {
     "data": {
      "text/html": [
       "<div>\n",
       "<style scoped>\n",
       "    .dataframe tbody tr th:only-of-type {\n",
       "        vertical-align: middle;\n",
       "    }\n",
       "\n",
       "    .dataframe tbody tr th {\n",
       "        vertical-align: top;\n",
       "    }\n",
       "\n",
       "    .dataframe thead th {\n",
       "        text-align: right;\n",
       "    }\n",
       "</style>\n",
       "<table border=\"1\" class=\"dataframe\">\n",
       "  <thead>\n",
       "    <tr style=\"text-align: right;\">\n",
       "      <th></th>\n",
       "      <th>role</th>\n",
       "      <th>gender</th>\n",
       "      <th>violations</th>\n",
       "      <th>health_status</th>\n",
       "      <th>years_of_driving_experience</th>\n",
       "      <th>id</th>\n",
       "    </tr>\n",
       "  </thead>\n",
       "  <tbody>\n",
       "    <tr>\n",
       "      <th>0</th>\n",
       "      <td>Водитель</td>\n",
       "      <td>Мужской</td>\n",
       "      <td>['Несоответствие скорости конкретным условиям ...</td>\n",
       "      <td>Раненый, находящийся (находившийся) на амбулат...</td>\n",
       "      <td>26.0</td>\n",
       "      <td>1983180</td>\n",
       "    </tr>\n",
       "    <tr>\n",
       "      <th>1</th>\n",
       "      <td>Водитель</td>\n",
       "      <td>Мужской</td>\n",
       "      <td>[]</td>\n",
       "      <td>Не пострадал</td>\n",
       "      <td>34.0</td>\n",
       "      <td>2889433</td>\n",
       "    </tr>\n",
       "    <tr>\n",
       "      <th>2</th>\n",
       "      <td>Пассажир</td>\n",
       "      <td>Мужской</td>\n",
       "      <td>[]</td>\n",
       "      <td>Раненый, находящийся (находившийся)  на амбула...</td>\n",
       "      <td>NaN</td>\n",
       "      <td>2591208</td>\n",
       "    </tr>\n",
       "    <tr>\n",
       "      <th>3</th>\n",
       "      <td>Водитель</td>\n",
       "      <td>Мужской</td>\n",
       "      <td>[]</td>\n",
       "      <td>Не пострадал</td>\n",
       "      <td>27.0</td>\n",
       "      <td>2577639</td>\n",
       "    </tr>\n",
       "    <tr>\n",
       "      <th>4</th>\n",
       "      <td>Пассажир</td>\n",
       "      <td>Женский</td>\n",
       "      <td>[]</td>\n",
       "      <td>Раненый, находящийся (находившийся) на стацион...</td>\n",
       "      <td>NaN</td>\n",
       "      <td>1981026</td>\n",
       "    </tr>\n",
       "  </tbody>\n",
       "</table>\n",
       "</div>"
      ],
      "text/plain": [
       "       role   gender                                         violations  \\\n",
       "0  Водитель  Мужской  ['Несоответствие скорости конкретным условиям ...   \n",
       "1  Водитель  Мужской                                                 []   \n",
       "2  Пассажир  Мужской                                                 []   \n",
       "3  Водитель  Мужской                                                 []   \n",
       "4  Пассажир  Женский                                                 []   \n",
       "\n",
       "                                       health_status  \\\n",
       "0  Раненый, находящийся (находившийся) на амбулат...   \n",
       "1                                       Не пострадал   \n",
       "2  Раненый, находящийся (находившийся)  на амбула...   \n",
       "3                                       Не пострадал   \n",
       "4  Раненый, находящийся (находившийся) на стацион...   \n",
       "\n",
       "   years_of_driving_experience       id  \n",
       "0                         26.0  1983180  \n",
       "1                         34.0  2889433  \n",
       "2                          NaN  2591208  \n",
       "3                         27.0  2577639  \n",
       "4                          NaN  1981026  "
      ]
     },
     "metadata": {},
     "output_type": "display_data"
    },
    {
     "data": {
      "text/html": [
       "<div>\n",
       "<style scoped>\n",
       "    .dataframe tbody tr th:only-of-type {\n",
       "        vertical-align: middle;\n",
       "    }\n",
       "\n",
       "    .dataframe tbody tr th {\n",
       "        vertical-align: top;\n",
       "    }\n",
       "\n",
       "    .dataframe thead th {\n",
       "        text-align: right;\n",
       "    }\n",
       "</style>\n",
       "<table border=\"1\" class=\"dataframe\">\n",
       "  <thead>\n",
       "    <tr style=\"text-align: right;\">\n",
       "      <th></th>\n",
       "      <th>role</th>\n",
       "      <th>gender</th>\n",
       "      <th>violations</th>\n",
       "      <th>health_status</th>\n",
       "      <th>years_of_driving_experience</th>\n",
       "      <th>id</th>\n",
       "    </tr>\n",
       "  </thead>\n",
       "  <tbody>\n",
       "    <tr>\n",
       "      <th>0</th>\n",
       "      <td>Водитель</td>\n",
       "      <td>Мужской</td>\n",
       "      <td>[]</td>\n",
       "      <td>Не пострадал</td>\n",
       "      <td>13.0</td>\n",
       "      <td>2163589</td>\n",
       "    </tr>\n",
       "    <tr>\n",
       "      <th>1</th>\n",
       "      <td>Водитель</td>\n",
       "      <td>Мужской</td>\n",
       "      <td>['Неправильный выбор дистанции']</td>\n",
       "      <td>Не пострадал</td>\n",
       "      <td>5.0</td>\n",
       "      <td>2155398</td>\n",
       "    </tr>\n",
       "    <tr>\n",
       "      <th>2</th>\n",
       "      <td>Водитель</td>\n",
       "      <td>Женский</td>\n",
       "      <td>[]</td>\n",
       "      <td>Не пострадал</td>\n",
       "      <td>11.0</td>\n",
       "      <td>2163319</td>\n",
       "    </tr>\n",
       "    <tr>\n",
       "      <th>3</th>\n",
       "      <td>Водитель</td>\n",
       "      <td>Мужской</td>\n",
       "      <td>['Несоблюдение очередности проезда перекрестков']</td>\n",
       "      <td>Не пострадал</td>\n",
       "      <td>23.0</td>\n",
       "      <td>2143938</td>\n",
       "    </tr>\n",
       "    <tr>\n",
       "      <th>4</th>\n",
       "      <td>Водитель</td>\n",
       "      <td>Мужской</td>\n",
       "      <td>[]</td>\n",
       "      <td>Не пострадал</td>\n",
       "      <td>19.0</td>\n",
       "      <td>2163390</td>\n",
       "    </tr>\n",
       "  </tbody>\n",
       "</table>\n",
       "</div>"
      ],
      "text/plain": [
       "       role   gender                                         violations  \\\n",
       "0  Водитель  Мужской                                                 []   \n",
       "1  Водитель  Мужской                   ['Неправильный выбор дистанции']   \n",
       "2  Водитель  Женский                                                 []   \n",
       "3  Водитель  Мужской  ['Несоблюдение очередности проезда перекрестков']   \n",
       "4  Водитель  Мужской                                                 []   \n",
       "\n",
       "  health_status  years_of_driving_experience       id  \n",
       "0  Не пострадал                         13.0  2163589  \n",
       "1  Не пострадал                          5.0  2155398  \n",
       "2  Не пострадал                         11.0  2163319  \n",
       "3  Не пострадал                         23.0  2143938  \n",
       "4  Не пострадал                         19.0  2163390  "
      ]
     },
     "metadata": {},
     "output_type": "display_data"
    },
    {
     "data": {
      "text/html": [
       "<div>\n",
       "<style scoped>\n",
       "    .dataframe tbody tr th:only-of-type {\n",
       "        vertical-align: middle;\n",
       "    }\n",
       "\n",
       "    .dataframe tbody tr th {\n",
       "        vertical-align: top;\n",
       "    }\n",
       "\n",
       "    .dataframe thead th {\n",
       "        text-align: right;\n",
       "    }\n",
       "</style>\n",
       "<table border=\"1\" class=\"dataframe\">\n",
       "  <thead>\n",
       "    <tr style=\"text-align: right;\">\n",
       "      <th></th>\n",
       "      <th>year</th>\n",
       "      <th>brand</th>\n",
       "      <th>color</th>\n",
       "      <th>model</th>\n",
       "      <th>category</th>\n",
       "      <th>id</th>\n",
       "    </tr>\n",
       "  </thead>\n",
       "  <tbody>\n",
       "    <tr>\n",
       "      <th>0</th>\n",
       "      <td>2011.0</td>\n",
       "      <td>ВАЗ</td>\n",
       "      <td>Серый</td>\n",
       "      <td>Kalina</td>\n",
       "      <td>А-класс (особо малый) до 3,5 м</td>\n",
       "      <td>1983180</td>\n",
       "    </tr>\n",
       "    <tr>\n",
       "      <th>1</th>\n",
       "      <td>2005.0</td>\n",
       "      <td>CHEVROLET</td>\n",
       "      <td>Зеленый</td>\n",
       "      <td>Niva</td>\n",
       "      <td>С-класс (малый средний, компактный) до 4,3 м</td>\n",
       "      <td>2889433</td>\n",
       "    </tr>\n",
       "    <tr>\n",
       "      <th>2</th>\n",
       "      <td>2017.0</td>\n",
       "      <td>RENAULT</td>\n",
       "      <td>Синий</td>\n",
       "      <td>Logan</td>\n",
       "      <td>С-класс (малый средний, компактный) до 4,3 м</td>\n",
       "      <td>2591208</td>\n",
       "    </tr>\n",
       "    <tr>\n",
       "      <th>3</th>\n",
       "      <td>2006.0</td>\n",
       "      <td>ВАЗ</td>\n",
       "      <td>Зеленый</td>\n",
       "      <td>ВАЗ 2115 и модификации</td>\n",
       "      <td>С-класс (малый средний, компактный) до 4,3 м</td>\n",
       "      <td>2577639</td>\n",
       "    </tr>\n",
       "    <tr>\n",
       "      <th>4</th>\n",
       "      <td>1986.0</td>\n",
       "      <td>MERCEDES</td>\n",
       "      <td>Зеленый</td>\n",
       "      <td>Прочие модели Mercedes</td>\n",
       "      <td>Фургоны</td>\n",
       "      <td>1981026</td>\n",
       "    </tr>\n",
       "  </tbody>\n",
       "</table>\n",
       "</div>"
      ],
      "text/plain": [
       "     year      brand    color                   model  \\\n",
       "0  2011.0        ВАЗ    Серый                  Kalina   \n",
       "1  2005.0  CHEVROLET  Зеленый                    Niva   \n",
       "2  2017.0    RENAULT    Синий                   Logan   \n",
       "3  2006.0        ВАЗ  Зеленый  ВАЗ 2115 и модификации   \n",
       "4  1986.0   MERCEDES  Зеленый  Прочие модели Mercedes   \n",
       "\n",
       "                                       category       id  \n",
       "0                А-класс (особо малый) до 3,5 м  1983180  \n",
       "1  С-класс (малый средний, компактный) до 4,3 м  2889433  \n",
       "2  С-класс (малый средний, компактный) до 4,3 м  2591208  \n",
       "3  С-класс (малый средний, компактный) до 4,3 м  2577639  \n",
       "4                                       Фургоны  1981026  "
      ]
     },
     "metadata": {},
     "output_type": "display_data"
    }
   ],
   "source": [
    "display(ko.head())\n",
    "\n",
    "display(mo.head())\n",
    "\n",
    "display(ko_part.head())\n",
    "\n",
    "display(mo_part.head())\n",
    "\n",
    "display(ko_v.head())"
   ]
  },
  {
   "cell_type": "markdown",
   "metadata": {},
   "source": [
    "Привести столбцы тип float с пропусками к типу int не получится, поскольку значение NaN - типа float. Однако можно заменить NaN на 0 и привести столбцы к целочисленному типу. Но, пожалуй, этим не стоит заниматься, лучше сохранить пропуски."
   ]
  },
  {
   "cell_type": "markdown",
   "metadata": {
    "id": "XbvXOlrAAjqB"
   },
   "source": [
    "## Исследовательский анализ\n",
    "\n"
   ]
  },
  {
   "cell_type": "markdown",
   "metadata": {
    "id": "jhehiImVAnQJ"
   },
   "source": [
    "### Какое число ДТП случилось в каждый день недели. Разбивка числа происшествий по месяцам"
   ]
  },
  {
   "cell_type": "code",
   "execution_count": 118,
   "metadata": {},
   "outputs": [],
   "source": [
    "ko['day'] = ko['datetime'].dt.weekday+1\n",
    "#display(ko.head())\n",
    "mo['day'] = mo['datetime'].dt.weekday+1"
   ]
  },
  {
   "cell_type": "code",
   "execution_count": 119,
   "metadata": {},
   "outputs": [
    {
     "data": {
      "text/html": [
       "<div>\n",
       "<style scoped>\n",
       "    .dataframe tbody tr th:only-of-type {\n",
       "        vertical-align: middle;\n",
       "    }\n",
       "\n",
       "    .dataframe tbody tr th {\n",
       "        vertical-align: top;\n",
       "    }\n",
       "\n",
       "    .dataframe thead th {\n",
       "        text-align: right;\n",
       "    }\n",
       "</style>\n",
       "<table border=\"1\" class=\"dataframe\">\n",
       "  <thead>\n",
       "    <tr style=\"text-align: right;\">\n",
       "      <th></th>\n",
       "      <th>day</th>\n",
       "      <th>id</th>\n",
       "    </tr>\n",
       "  </thead>\n",
       "  <tbody>\n",
       "    <tr>\n",
       "      <th>4</th>\n",
       "      <td>5</td>\n",
       "      <td>2344</td>\n",
       "    </tr>\n",
       "    <tr>\n",
       "      <th>5</th>\n",
       "      <td>6</td>\n",
       "      <td>2246</td>\n",
       "    </tr>\n",
       "    <tr>\n",
       "      <th>6</th>\n",
       "      <td>7</td>\n",
       "      <td>2054</td>\n",
       "    </tr>\n",
       "    <tr>\n",
       "      <th>0</th>\n",
       "      <td>1</td>\n",
       "      <td>2010</td>\n",
       "    </tr>\n",
       "    <tr>\n",
       "      <th>1</th>\n",
       "      <td>2</td>\n",
       "      <td>1988</td>\n",
       "    </tr>\n",
       "    <tr>\n",
       "      <th>2</th>\n",
       "      <td>3</td>\n",
       "      <td>1939</td>\n",
       "    </tr>\n",
       "    <tr>\n",
       "      <th>3</th>\n",
       "      <td>4</td>\n",
       "      <td>1936</td>\n",
       "    </tr>\n",
       "  </tbody>\n",
       "</table>\n",
       "</div>"
      ],
      "text/plain": [
       "   day    id\n",
       "4    5  2344\n",
       "5    6  2246\n",
       "6    7  2054\n",
       "0    1  2010\n",
       "1    2  1988\n",
       "2    3  1939\n",
       "3    4  1936"
      ]
     },
     "metadata": {},
     "output_type": "display_data"
    }
   ],
   "source": [
    "ko_days = ko.groupby(by = 'day').agg({'id': 'count'}).reset_index()\n",
    "display(ko_days.sort_values('id', ascending = False))"
   ]
  },
  {
   "cell_type": "code",
   "execution_count": 120,
   "metadata": {},
   "outputs": [
    {
     "data": {
      "text/html": [
       "<div>\n",
       "<style scoped>\n",
       "    .dataframe tbody tr th:only-of-type {\n",
       "        vertical-align: middle;\n",
       "    }\n",
       "\n",
       "    .dataframe tbody tr th {\n",
       "        vertical-align: top;\n",
       "    }\n",
       "\n",
       "    .dataframe thead th {\n",
       "        text-align: right;\n",
       "    }\n",
       "</style>\n",
       "<table border=\"1\" class=\"dataframe\">\n",
       "  <thead>\n",
       "    <tr style=\"text-align: right;\">\n",
       "      <th></th>\n",
       "      <th>day</th>\n",
       "      <th>id</th>\n",
       "    </tr>\n",
       "  </thead>\n",
       "  <tbody>\n",
       "    <tr>\n",
       "      <th>5</th>\n",
       "      <td>6</td>\n",
       "      <td>7285</td>\n",
       "    </tr>\n",
       "    <tr>\n",
       "      <th>4</th>\n",
       "      <td>5</td>\n",
       "      <td>7024</td>\n",
       "    </tr>\n",
       "    <tr>\n",
       "      <th>0</th>\n",
       "      <td>1</td>\n",
       "      <td>6390</td>\n",
       "    </tr>\n",
       "    <tr>\n",
       "      <th>3</th>\n",
       "      <td>4</td>\n",
       "      <td>6343</td>\n",
       "    </tr>\n",
       "    <tr>\n",
       "      <th>6</th>\n",
       "      <td>7</td>\n",
       "      <td>6318</td>\n",
       "    </tr>\n",
       "    <tr>\n",
       "      <th>1</th>\n",
       "      <td>2</td>\n",
       "      <td>6156</td>\n",
       "    </tr>\n",
       "    <tr>\n",
       "      <th>2</th>\n",
       "      <td>3</td>\n",
       "      <td>6102</td>\n",
       "    </tr>\n",
       "  </tbody>\n",
       "</table>\n",
       "</div>"
      ],
      "text/plain": [
       "   day    id\n",
       "5    6  7285\n",
       "4    5  7024\n",
       "0    1  6390\n",
       "3    4  6343\n",
       "6    7  6318\n",
       "1    2  6156\n",
       "2    3  6102"
      ]
     },
     "metadata": {},
     "output_type": "display_data"
    }
   ],
   "source": [
    "mo_days = mo.groupby(by = 'day').agg({'id': 'count'}).reset_index()\n",
    "display(mo_days.sort_values('id', ascending = False))"
   ]
  },
  {
   "cell_type": "markdown",
   "metadata": {},
   "source": [
    "Наибольшее количество ДТП в обеих областях происходит в четверг и пятницу. В понедельник и вторник (и в среду в Кировской области) это значение минимально."
   ]
  },
  {
   "cell_type": "code",
   "execution_count": 121,
   "metadata": {},
   "outputs": [],
   "source": [
    "ko['mnth'] = ko['datetime'].dt.month\n",
    "#display(ko.head())\n",
    "mo['mnth'] = mo['datetime'].dt.month"
   ]
  },
  {
   "cell_type": "code",
   "execution_count": 122,
   "metadata": {},
   "outputs": [
    {
     "data": {
      "text/html": [
       "<div>\n",
       "<style scoped>\n",
       "    .dataframe tbody tr th:only-of-type {\n",
       "        vertical-align: middle;\n",
       "    }\n",
       "\n",
       "    .dataframe tbody tr th {\n",
       "        vertical-align: top;\n",
       "    }\n",
       "\n",
       "    .dataframe thead th {\n",
       "        text-align: right;\n",
       "    }\n",
       "</style>\n",
       "<table border=\"1\" class=\"dataframe\">\n",
       "  <thead>\n",
       "    <tr style=\"text-align: right;\">\n",
       "      <th></th>\n",
       "      <th>mnth</th>\n",
       "      <th>id</th>\n",
       "    </tr>\n",
       "  </thead>\n",
       "  <tbody>\n",
       "    <tr>\n",
       "      <th>7</th>\n",
       "      <td>8</td>\n",
       "      <td>1654</td>\n",
       "    </tr>\n",
       "    <tr>\n",
       "      <th>6</th>\n",
       "      <td>7</td>\n",
       "      <td>1635</td>\n",
       "    </tr>\n",
       "    <tr>\n",
       "      <th>5</th>\n",
       "      <td>6</td>\n",
       "      <td>1421</td>\n",
       "    </tr>\n",
       "    <tr>\n",
       "      <th>8</th>\n",
       "      <td>9</td>\n",
       "      <td>1370</td>\n",
       "    </tr>\n",
       "    <tr>\n",
       "      <th>9</th>\n",
       "      <td>10</td>\n",
       "      <td>1333</td>\n",
       "    </tr>\n",
       "    <tr>\n",
       "      <th>10</th>\n",
       "      <td>11</td>\n",
       "      <td>1200</td>\n",
       "    </tr>\n",
       "    <tr>\n",
       "      <th>4</th>\n",
       "      <td>5</td>\n",
       "      <td>1189</td>\n",
       "    </tr>\n",
       "    <tr>\n",
       "      <th>11</th>\n",
       "      <td>12</td>\n",
       "      <td>1164</td>\n",
       "    </tr>\n",
       "    <tr>\n",
       "      <th>0</th>\n",
       "      <td>1</td>\n",
       "      <td>1069</td>\n",
       "    </tr>\n",
       "    <tr>\n",
       "      <th>3</th>\n",
       "      <td>4</td>\n",
       "      <td>875</td>\n",
       "    </tr>\n",
       "    <tr>\n",
       "      <th>1</th>\n",
       "      <td>2</td>\n",
       "      <td>808</td>\n",
       "    </tr>\n",
       "    <tr>\n",
       "      <th>2</th>\n",
       "      <td>3</td>\n",
       "      <td>799</td>\n",
       "    </tr>\n",
       "  </tbody>\n",
       "</table>\n",
       "</div>"
      ],
      "text/plain": [
       "    mnth    id\n",
       "7      8  1654\n",
       "6      7  1635\n",
       "5      6  1421\n",
       "8      9  1370\n",
       "9     10  1333\n",
       "10    11  1200\n",
       "4      5  1189\n",
       "11    12  1164\n",
       "0      1  1069\n",
       "3      4   875\n",
       "1      2   808\n",
       "2      3   799"
      ]
     },
     "metadata": {},
     "output_type": "display_data"
    }
   ],
   "source": [
    "ko_mnth = ko.groupby(by = 'mnth').agg({'id': 'count'}).reset_index()\n",
    "display(ko_mnth.sort_values('id', ascending = False))"
   ]
  },
  {
   "cell_type": "code",
   "execution_count": 123,
   "metadata": {},
   "outputs": [
    {
     "data": {
      "text/html": [
       "<div>\n",
       "<style scoped>\n",
       "    .dataframe tbody tr th:only-of-type {\n",
       "        vertical-align: middle;\n",
       "    }\n",
       "\n",
       "    .dataframe tbody tr th {\n",
       "        vertical-align: top;\n",
       "    }\n",
       "\n",
       "    .dataframe thead th {\n",
       "        text-align: right;\n",
       "    }\n",
       "</style>\n",
       "<table border=\"1\" class=\"dataframe\">\n",
       "  <thead>\n",
       "    <tr style=\"text-align: right;\">\n",
       "      <th></th>\n",
       "      <th>mnth</th>\n",
       "      <th>id</th>\n",
       "    </tr>\n",
       "  </thead>\n",
       "  <tbody>\n",
       "    <tr>\n",
       "      <th>7</th>\n",
       "      <td>8</td>\n",
       "      <td>4787</td>\n",
       "    </tr>\n",
       "    <tr>\n",
       "      <th>8</th>\n",
       "      <td>9</td>\n",
       "      <td>4571</td>\n",
       "    </tr>\n",
       "    <tr>\n",
       "      <th>6</th>\n",
       "      <td>7</td>\n",
       "      <td>4401</td>\n",
       "    </tr>\n",
       "    <tr>\n",
       "      <th>5</th>\n",
       "      <td>6</td>\n",
       "      <td>4354</td>\n",
       "    </tr>\n",
       "    <tr>\n",
       "      <th>9</th>\n",
       "      <td>10</td>\n",
       "      <td>4113</td>\n",
       "    </tr>\n",
       "    <tr>\n",
       "      <th>4</th>\n",
       "      <td>5</td>\n",
       "      <td>3992</td>\n",
       "    </tr>\n",
       "    <tr>\n",
       "      <th>11</th>\n",
       "      <td>12</td>\n",
       "      <td>3732</td>\n",
       "    </tr>\n",
       "    <tr>\n",
       "      <th>10</th>\n",
       "      <td>11</td>\n",
       "      <td>3618</td>\n",
       "    </tr>\n",
       "    <tr>\n",
       "      <th>0</th>\n",
       "      <td>1</td>\n",
       "      <td>3254</td>\n",
       "    </tr>\n",
       "    <tr>\n",
       "      <th>3</th>\n",
       "      <td>4</td>\n",
       "      <td>3172</td>\n",
       "    </tr>\n",
       "    <tr>\n",
       "      <th>2</th>\n",
       "      <td>3</td>\n",
       "      <td>2880</td>\n",
       "    </tr>\n",
       "    <tr>\n",
       "      <th>1</th>\n",
       "      <td>2</td>\n",
       "      <td>2744</td>\n",
       "    </tr>\n",
       "  </tbody>\n",
       "</table>\n",
       "</div>"
      ],
      "text/plain": [
       "    mnth    id\n",
       "7      8  4787\n",
       "8      9  4571\n",
       "6      7  4401\n",
       "5      6  4354\n",
       "9     10  4113\n",
       "4      5  3992\n",
       "11    12  3732\n",
       "10    11  3618\n",
       "0      1  3254\n",
       "3      4  3172\n",
       "2      3  2880\n",
       "1      2  2744"
      ]
     },
     "metadata": {},
     "output_type": "display_data"
    }
   ],
   "source": [
    "mo_mnth = mo.groupby(by = 'mnth').agg({'id': 'count'}).reset_index()\n",
    "display(mo_mnth.sort_values('id', ascending = False))"
   ]
  },
  {
   "cell_type": "markdown",
   "metadata": {},
   "source": [
    "Наибольшее количество ДТП в обеих областях приходится на июль. Наименьшее - на январь и февраль."
   ]
  },
  {
   "cell_type": "markdown",
   "metadata": {
    "id": "xcu4WsEoCGog"
   },
   "source": [
    "### Категории водителей по стажу. Встречаются ли категории, которые разительно отличаются по числу ДТП"
   ]
  },
  {
   "cell_type": "code",
   "execution_count": 124,
   "metadata": {},
   "outputs": [
    {
     "name": "stdout",
     "output_type": "stream",
     "text": [
      "Минимальный стаж (Кировская область): 1.0 лет.\n",
      "Минимальный стаж (Московская область): 1.0 лет.\n"
     ]
    }
   ],
   "source": [
    "ko_min_exp = ko_part['years_of_driving_experience'].min()\n",
    "print(f'Минимальный стаж (Кировская область): {ko_min_exp} лет.')\n",
    "mo_min_exp = mo_part['years_of_driving_experience'].min()\n",
    "print(f'Минимальный стаж (Московская область): {ko_min_exp} лет.')"
   ]
  },
  {
   "cell_type": "code",
   "execution_count": 125,
   "metadata": {},
   "outputs": [
    {
     "name": "stdout",
     "output_type": "stream",
     "text": [
      "Максимальный стаж (Кировская область): 66.0 лет.\n",
      "Максимальный стаж (Московская область): 66.0 лет.\n"
     ]
    }
   ],
   "source": [
    "ko_max_exp = ko_part['years_of_driving_experience'].max()\n",
    "print(f'Максимальный стаж (Кировская область): {ko_max_exp} лет.')\n",
    "mo_max_exp = mo_part['years_of_driving_experience'].max()\n",
    "print(f'Максимальный стаж (Московская область): {ko_max_exp} лет.')"
   ]
  },
  {
   "cell_type": "code",
   "execution_count": 126,
   "metadata": {},
   "outputs": [
    {
     "data": {
      "text/html": [
       "<div>\n",
       "<style scoped>\n",
       "    .dataframe tbody tr th:only-of-type {\n",
       "        vertical-align: middle;\n",
       "    }\n",
       "\n",
       "    .dataframe tbody tr th {\n",
       "        vertical-align: top;\n",
       "    }\n",
       "\n",
       "    .dataframe thead th {\n",
       "        text-align: right;\n",
       "    }\n",
       "</style>\n",
       "<table border=\"1\" class=\"dataframe\">\n",
       "  <thead>\n",
       "    <tr style=\"text-align: right;\">\n",
       "      <th></th>\n",
       "      <th>exp_group</th>\n",
       "      <th>id</th>\n",
       "      <th>fraction (%)</th>\n",
       "    </tr>\n",
       "  </thead>\n",
       "  <tbody>\n",
       "    <tr>\n",
       "      <th>0</th>\n",
       "      <td>0-10</td>\n",
       "      <td>3958</td>\n",
       "      <td>18.40</td>\n",
       "    </tr>\n",
       "    <tr>\n",
       "      <th>1</th>\n",
       "      <td>11-20</td>\n",
       "      <td>3312</td>\n",
       "      <td>15.40</td>\n",
       "    </tr>\n",
       "    <tr>\n",
       "      <th>2</th>\n",
       "      <td>21-30</td>\n",
       "      <td>1807</td>\n",
       "      <td>8.40</td>\n",
       "    </tr>\n",
       "    <tr>\n",
       "      <th>3</th>\n",
       "      <td>31-40</td>\n",
       "      <td>1062</td>\n",
       "      <td>4.94</td>\n",
       "    </tr>\n",
       "    <tr>\n",
       "      <th>4</th>\n",
       "      <td>41-50</td>\n",
       "      <td>411</td>\n",
       "      <td>1.91</td>\n",
       "    </tr>\n",
       "    <tr>\n",
       "      <th>5</th>\n",
       "      <td>51-60</td>\n",
       "      <td>68</td>\n",
       "      <td>0.32</td>\n",
       "    </tr>\n",
       "    <tr>\n",
       "      <th>6</th>\n",
       "      <td>&gt;60</td>\n",
       "      <td>6</td>\n",
       "      <td>0.03</td>\n",
       "    </tr>\n",
       "  </tbody>\n",
       "</table>\n",
       "</div>"
      ],
      "text/plain": [
       "  exp_group    id  fraction (%)\n",
       "0      0-10  3958         18.40\n",
       "1     11-20  3312         15.40\n",
       "2     21-30  1807          8.40\n",
       "3     31-40  1062          4.94\n",
       "4     41-50   411          1.91\n",
       "5     51-60    68          0.32\n",
       "6       >60     6          0.03"
      ]
     },
     "metadata": {},
     "output_type": "display_data"
    }
   ],
   "source": [
    "ko_part['exp_group'] = pd.cut(ko_part['years_of_driving_experience'], bins=[1, 10, 20, 30, 40, 50, 60, 100],\n",
    "                              labels=[\"0-10\", \"11-20\", \"21-30\", \"31-40\", \"41-50\", \"51-60\", \">60\"])\n",
    "#display(ko_part.head(2))\n",
    "ko_part_gr = ko_part.groupby('exp_group', observed=True).agg({'id': 'count'}).reset_index()\n",
    "ko_part_gr['fraction (%)'] = round(ko_part_gr['id']*100/ko_part.shape[0], 2)\n",
    "display(ko_part_gr)"
   ]
  },
  {
   "cell_type": "code",
   "execution_count": 127,
   "metadata": {},
   "outputs": [
    {
     "data": {
      "text/html": [
       "<div>\n",
       "<style scoped>\n",
       "    .dataframe tbody tr th:only-of-type {\n",
       "        vertical-align: middle;\n",
       "    }\n",
       "\n",
       "    .dataframe tbody tr th {\n",
       "        vertical-align: top;\n",
       "    }\n",
       "\n",
       "    .dataframe thead th {\n",
       "        text-align: right;\n",
       "    }\n",
       "</style>\n",
       "<table border=\"1\" class=\"dataframe\">\n",
       "  <thead>\n",
       "    <tr style=\"text-align: right;\">\n",
       "      <th></th>\n",
       "      <th>exp_group</th>\n",
       "      <th>id</th>\n",
       "      <th>fraction (%)</th>\n",
       "    </tr>\n",
       "  </thead>\n",
       "  <tbody>\n",
       "    <tr>\n",
       "      <th>0</th>\n",
       "      <td>0-10</td>\n",
       "      <td>12374</td>\n",
       "      <td>20.71</td>\n",
       "    </tr>\n",
       "    <tr>\n",
       "      <th>1</th>\n",
       "      <td>11-20</td>\n",
       "      <td>11265</td>\n",
       "      <td>18.85</td>\n",
       "    </tr>\n",
       "    <tr>\n",
       "      <th>2</th>\n",
       "      <td>21-30</td>\n",
       "      <td>5947</td>\n",
       "      <td>9.95</td>\n",
       "    </tr>\n",
       "    <tr>\n",
       "      <th>3</th>\n",
       "      <td>31-40</td>\n",
       "      <td>2795</td>\n",
       "      <td>4.68</td>\n",
       "    </tr>\n",
       "    <tr>\n",
       "      <th>4</th>\n",
       "      <td>41-50</td>\n",
       "      <td>952</td>\n",
       "      <td>1.59</td>\n",
       "    </tr>\n",
       "    <tr>\n",
       "      <th>5</th>\n",
       "      <td>51-60</td>\n",
       "      <td>214</td>\n",
       "      <td>0.36</td>\n",
       "    </tr>\n",
       "    <tr>\n",
       "      <th>6</th>\n",
       "      <td>&gt;60</td>\n",
       "      <td>28</td>\n",
       "      <td>0.05</td>\n",
       "    </tr>\n",
       "  </tbody>\n",
       "</table>\n",
       "</div>"
      ],
      "text/plain": [
       "  exp_group     id  fraction (%)\n",
       "0      0-10  12374         20.71\n",
       "1     11-20  11265         18.85\n",
       "2     21-30   5947          9.95\n",
       "3     31-40   2795          4.68\n",
       "4     41-50    952          1.59\n",
       "5     51-60    214          0.36\n",
       "6       >60     28          0.05"
      ]
     },
     "metadata": {},
     "output_type": "display_data"
    }
   ],
   "source": [
    "mo_part['exp_group'] = pd.cut(mo_part['years_of_driving_experience'], bins=[1, 10, 20, 30, 40, 50, 60, 100],\n",
    "                              labels=[\"0-10\", \"11-20\", \"21-30\", \"31-40\", \"41-50\", \"51-60\", \">60\"])\n",
    "#display(mo_part.head(2))\n",
    "mo_part_gr = mo_part.groupby('exp_group', observed=True).agg({'id': 'count'}).reset_index()\n",
    "mo_part_gr['fraction (%)'] = round(mo_part_gr['id']*100/mo_part.shape[0], 2)\n",
    "display(mo_part_gr)"
   ]
  },
  {
   "cell_type": "markdown",
   "metadata": {},
   "source": [
    "Итак, максимальное количество ДТП приходится на группу со стажем от 1 до 10 лет, дальше процент совершённых ДТП уменьшается. Возможно, это отчасти связано с тем, что людей с бОльшим стажем просто меньше по популяции (обратим внимание, что мы вычисляем **процент от совершённых ДТП**, а не **процент водителей определённой группы, попавших в ДТП, от всего количества водителей в этой группе**, так что, на мой взгляд, полученные результаты сложно верно интерпретировать)."
   ]
  },
  {
   "cell_type": "markdown",
   "metadata": {
    "id": "muKT0SVzGKtA"
   },
   "source": [
    "### Как менялось число аварий в Кировской (Киров входит в численность) и Московской области (Москва исключена). Где аварий больше в относительном выражении — в пересчёте на 100 тысяч жителей"
   ]
  },
  {
   "cell_type": "code",
   "execution_count": 128,
   "metadata": {},
   "outputs": [],
   "source": [
    "import matplotlib.pyplot as plt\n",
    "import seaborn as sns\n",
    "import numpy as np"
   ]
  },
  {
   "cell_type": "code",
   "execution_count": 129,
   "metadata": {},
   "outputs": [
    {
     "data": {
      "image/png": "[encoded data removed]",
      "text/plain": [
       "<Figure size 1000x500 with 1 Axes>"
      ]
     },
     "metadata": {},
     "output_type": "display_data"
    }
   ],
   "source": [
    "plt.figure(figsize=(10, 5))\n",
    "sns.histplot(ko['datetime'], bins=100, kde=True)\n",
    "plt.title('График ДТП, совершённых в Кировской области')\n",
    "plt.show()"
   ]
  },
  {
   "cell_type": "markdown",
   "metadata": {},
   "source": [
    "Пожалуй, говорить о снижении числа ДТП в Кировской области с 2015 по 2024 год нельзя.\n",
    "\n",
    "Проверим даты начала и окончания регистрации ДТП."
   ]
  },
  {
   "cell_type": "code",
   "execution_count": 130,
   "metadata": {},
   "outputs": [
    {
     "name": "stdout",
     "output_type": "stream",
     "text": [
      "Начало регистрации: 2015-01-01 03:45:00.\n",
      "Окончание регистрации: 2024-08-31 18:43:00.\n"
     ]
    }
   ],
   "source": [
    "print(f'Начало регистрации: {ko['datetime'].min()}.')\n",
    "print(f'Окончание регистрации: {ko['datetime'].max()}.')"
   ]
  },
  {
   "cell_type": "code",
   "execution_count": 131,
   "metadata": {},
   "outputs": [
    {
     "data": {
      "text/plain": [
       "array(['Мытищинский', 'Истринский', 'Лобня', 'Воскресенский', 'Раменский',\n",
       "       'Рузский', 'Пушкинский', 'Подольский', 'Ленинский', 'Электросталь',\n",
       "       'Наро-Фоминский', 'Павлово-Посадский', 'Королёв', 'Щелковский',\n",
       "       'Дубна', 'Долгопрудный', 'Дзержинский', 'Бронницы',\n",
       "       'Красногорский', 'Ступинский', 'Ногинский', 'Каширский',\n",
       "       'Серпуховский', 'Одинцовский', 'Солнечногорский',\n",
       "       'Сергиево-Посадский', 'Чеховский', 'Протвино', 'Люберецкий',\n",
       "       'Лотошинский', 'Коломенский', 'Можайский', 'Балашиха',\n",
       "       'Дмитровский', 'Клинский', 'Орехово-Зуево', 'Железнодорожный',\n",
       "       'Луховицкий', 'Талдомский', 'Домодедово', 'Орехово-Зуевский',\n",
       "       'Волоколамский', 'Лосино-Петровский', 'Звенигород', 'Жуковский',\n",
       "       'Коломна', 'Реутов', 'Красноармейск', 'Шатурский', 'Химки',\n",
       "       'Серпухов', 'Лыткарино', 'Фрязино', 'Котельники', 'Климовск',\n",
       "       'Ивантеевка', 'Егорьевский', 'Власиха', 'Зарайский', 'Озёрский',\n",
       "       'Серебряно-Прудский', 'Рошаль', 'Шаховской', 'Пущино', 'Подольск'],\n",
       "      dtype=object)"
      ]
     },
     "metadata": {},
     "output_type": "display_data"
    },
    {
     "data": {
      "text/plain": [
       "array(['Московская область'], dtype=object)"
      ]
     },
     "metadata": {},
     "output_type": "display_data"
    }
   ],
   "source": [
    "display(mo['region'].unique())\n",
    "display(mo['parent_region'].unique())"
   ]
  },
  {
   "cell_type": "markdown",
   "metadata": {},
   "source": [
    "Мы видим, что Москвы нет в списке регионов, поэтому можем взять просто всю таблицу."
   ]
  },
  {
   "cell_type": "code",
   "execution_count": 132,
   "metadata": {},
   "outputs": [
    {
     "data": {
      "image/png": "[encoded data removed]",
      "text/plain": [
       "<Figure size 1000x500 with 1 Axes>"
      ]
     },
     "metadata": {},
     "output_type": "display_data"
    }
   ],
   "source": [
    "plt.figure(figsize=(10, 5))\n",
    "sns.histplot(mo['datetime'], bins=100, kde=True)\n",
    "plt.title('График ДТП, совершённых в Московской области')\n",
    "plt.show()"
   ]
  },
  {
   "cell_type": "markdown",
   "metadata": {
    "collapsed": true,
    "jupyter": {
     "outputs_hidden": true
    }
   },
   "source": [
    "Мы видим снижение абсолютного числа ДТП в Московской области в период с 2016 по 2023 год (поскольку 2015 и 2024, вероятно, учтены не полностью). Кстати, выясним даты начала и окончания регистрации ДТП в данной таблице."
   ]
  },
  {
   "cell_type": "code",
   "execution_count": 133,
   "metadata": {},
   "outputs": [
    {
     "name": "stdout",
     "output_type": "stream",
     "text": [
      "Начало регистрации: 2015-01-01 00:20:00.\n"
     ]
    }
   ],
   "source": [
    "print(f'Начало регистрации: {mo['datetime'].min()}.')"
   ]
  },
  {
   "cell_type": "code",
   "execution_count": 134,
   "metadata": {},
   "outputs": [
    {
     "name": "stdout",
     "output_type": "stream",
     "text": [
      "Окончание регистрации: 2024-09-30 18:20:00.\n"
     ]
    }
   ],
   "source": [
    "print(f'Окончание регистрации: {mo['datetime'].max()}.')"
   ]
  },
  {
   "cell_type": "markdown",
   "metadata": {},
   "source": [
    "Первое ДТП зарегистрировано 01.01.2015, значит, можем говорить о снижении  с 2015 по 2023 год."
   ]
  },
  {
   "cell_type": "markdown",
   "metadata": {},
   "source": [
    "Пересчитаем данные по областям на 100.000 жителей.\n",
    "\n",
    "Для этого возьмём данные из открытых источников (Wikipedia) с 2015 по 2024 год."
   ]
  },
  {
   "cell_type": "code",
   "execution_count": 135,
   "metadata": {},
   "outputs": [],
   "source": [
    "ko['year'] = ko['datetime'].dt.year\n",
    "mo['year'] = mo['datetime'].dt.year"
   ]
  },
  {
   "cell_type": "code",
   "execution_count": 136,
   "metadata": {},
   "outputs": [
    {
     "data": {
      "text/html": [
       "<div>\n",
       "<style scoped>\n",
       "    .dataframe tbody tr th:only-of-type {\n",
       "        vertical-align: middle;\n",
       "    }\n",
       "\n",
       "    .dataframe tbody tr th {\n",
       "        vertical-align: top;\n",
       "    }\n",
       "\n",
       "    .dataframe thead th {\n",
       "        text-align: right;\n",
       "    }\n",
       "</style>\n",
       "<table border=\"1\" class=\"dataframe\">\n",
       "  <thead>\n",
       "    <tr style=\"text-align: right;\">\n",
       "      <th></th>\n",
       "      <th>year</th>\n",
       "      <th>id</th>\n",
       "    </tr>\n",
       "  </thead>\n",
       "  <tbody>\n",
       "    <tr>\n",
       "      <th>0</th>\n",
       "      <td>2015</td>\n",
       "      <td>1532</td>\n",
       "    </tr>\n",
       "    <tr>\n",
       "      <th>1</th>\n",
       "      <td>2016</td>\n",
       "      <td>1468</td>\n",
       "    </tr>\n",
       "    <tr>\n",
       "      <th>2</th>\n",
       "      <td>2017</td>\n",
       "      <td>1452</td>\n",
       "    </tr>\n",
       "    <tr>\n",
       "      <th>3</th>\n",
       "      <td>2018</td>\n",
       "      <td>1612</td>\n",
       "    </tr>\n",
       "    <tr>\n",
       "      <th>4</th>\n",
       "      <td>2019</td>\n",
       "      <td>1568</td>\n",
       "    </tr>\n",
       "    <tr>\n",
       "      <th>5</th>\n",
       "      <td>2020</td>\n",
       "      <td>1498</td>\n",
       "    </tr>\n",
       "    <tr>\n",
       "      <th>6</th>\n",
       "      <td>2021</td>\n",
       "      <td>1524</td>\n",
       "    </tr>\n",
       "    <tr>\n",
       "      <th>7</th>\n",
       "      <td>2022</td>\n",
       "      <td>1386</td>\n",
       "    </tr>\n",
       "    <tr>\n",
       "      <th>8</th>\n",
       "      <td>2023</td>\n",
       "      <td>1486</td>\n",
       "    </tr>\n",
       "    <tr>\n",
       "      <th>9</th>\n",
       "      <td>2024</td>\n",
       "      <td>991</td>\n",
       "    </tr>\n",
       "  </tbody>\n",
       "</table>\n",
       "</div>"
      ],
      "text/plain": [
       "   year    id\n",
       "0  2015  1532\n",
       "1  2016  1468\n",
       "2  2017  1452\n",
       "3  2018  1612\n",
       "4  2019  1568\n",
       "5  2020  1498\n",
       "6  2021  1524\n",
       "7  2022  1386\n",
       "8  2023  1486\n",
       "9  2024   991"
      ]
     },
     "metadata": {},
     "output_type": "display_data"
    }
   ],
   "source": [
    "ko_gry = ko.groupby(['year']).agg({'id':'count'}).reset_index()\n",
    "#ko_gry['id'] = ko_gry['id']/ko_gry['\n",
    "display(ko_gry)"
   ]
  },
  {
   "cell_type": "code",
   "execution_count": 137,
   "metadata": {},
   "outputs": [
    {
     "data": {
      "text/html": [
       "<div>\n",
       "<style scoped>\n",
       "    .dataframe tbody tr th:only-of-type {\n",
       "        vertical-align: middle;\n",
       "    }\n",
       "\n",
       "    .dataframe tbody tr th {\n",
       "        vertical-align: top;\n",
       "    }\n",
       "\n",
       "    .dataframe thead th {\n",
       "        text-align: right;\n",
       "    }\n",
       "</style>\n",
       "<table border=\"1\" class=\"dataframe\">\n",
       "  <thead>\n",
       "    <tr style=\"text-align: right;\">\n",
       "      <th></th>\n",
       "      <th>year</th>\n",
       "      <th>id</th>\n",
       "    </tr>\n",
       "  </thead>\n",
       "  <tbody>\n",
       "    <tr>\n",
       "      <th>0</th>\n",
       "      <td>2015</td>\n",
       "      <td>6643</td>\n",
       "    </tr>\n",
       "    <tr>\n",
       "      <th>1</th>\n",
       "      <td>2016</td>\n",
       "      <td>5794</td>\n",
       "    </tr>\n",
       "    <tr>\n",
       "      <th>2</th>\n",
       "      <td>2017</td>\n",
       "      <td>5747</td>\n",
       "    </tr>\n",
       "    <tr>\n",
       "      <th>3</th>\n",
       "      <td>2018</td>\n",
       "      <td>5102</td>\n",
       "    </tr>\n",
       "    <tr>\n",
       "      <th>4</th>\n",
       "      <td>2019</td>\n",
       "      <td>5111</td>\n",
       "    </tr>\n",
       "    <tr>\n",
       "      <th>5</th>\n",
       "      <td>2020</td>\n",
       "      <td>4216</td>\n",
       "    </tr>\n",
       "    <tr>\n",
       "      <th>6</th>\n",
       "      <td>2021</td>\n",
       "      <td>3898</td>\n",
       "    </tr>\n",
       "    <tr>\n",
       "      <th>7</th>\n",
       "      <td>2022</td>\n",
       "      <td>3353</td>\n",
       "    </tr>\n",
       "    <tr>\n",
       "      <th>8</th>\n",
       "      <td>2023</td>\n",
       "      <td>3372</td>\n",
       "    </tr>\n",
       "    <tr>\n",
       "      <th>9</th>\n",
       "      <td>2024</td>\n",
       "      <td>2382</td>\n",
       "    </tr>\n",
       "  </tbody>\n",
       "</table>\n",
       "</div>"
      ],
      "text/plain": [
       "   year    id\n",
       "0  2015  6643\n",
       "1  2016  5794\n",
       "2  2017  5747\n",
       "3  2018  5102\n",
       "4  2019  5111\n",
       "5  2020  4216\n",
       "6  2021  3898\n",
       "7  2022  3353\n",
       "8  2023  3372\n",
       "9  2024  2382"
      ]
     },
     "metadata": {},
     "output_type": "display_data"
    }
   ],
   "source": [
    "mo_gry = mo.groupby(['year']).agg({'id':'count'}).reset_index()\n",
    "display(mo_gry)"
   ]
  },
  {
   "cell_type": "markdown",
   "metadata": {},
   "source": [
    "Московская область:\n",
    "\n",
    "7231068\t7318647\t7423470 7503385\t7599647\t7690863\t8524665\t8542257\t8591736\t8651260\n",
    "\n",
    "Кировская область:\n",
    "\n",
    "1304348\t1297474\t1291684\t1283238\t1272109\t1262402\t1153680\t1149176\t1138112 1129935\t\t\t\t\t\t\t\t\n",
    "\n",
    "Создадим дополнительный столбец в обеих таблицах."
   ]
  },
  {
   "cell_type": "code",
   "execution_count": 138,
   "metadata": {},
   "outputs": [
    {
     "data": {
      "text/html": [
       "<div>\n",
       "<style scoped>\n",
       "    .dataframe tbody tr th:only-of-type {\n",
       "        vertical-align: middle;\n",
       "    }\n",
       "\n",
       "    .dataframe tbody tr th {\n",
       "        vertical-align: top;\n",
       "    }\n",
       "\n",
       "    .dataframe thead th {\n",
       "        text-align: right;\n",
       "    }\n",
       "</style>\n",
       "<table border=\"1\" class=\"dataframe\">\n",
       "  <thead>\n",
       "    <tr style=\"text-align: right;\">\n",
       "      <th></th>\n",
       "      <th>year</th>\n",
       "      <th>id</th>\n",
       "      <th>population</th>\n",
       "      <th>fract</th>\n",
       "    </tr>\n",
       "  </thead>\n",
       "  <tbody>\n",
       "    <tr>\n",
       "      <th>0</th>\n",
       "      <td>2015</td>\n",
       "      <td>1532</td>\n",
       "      <td>13.04</td>\n",
       "      <td>117.48</td>\n",
       "    </tr>\n",
       "    <tr>\n",
       "      <th>1</th>\n",
       "      <td>2016</td>\n",
       "      <td>1468</td>\n",
       "      <td>12.97</td>\n",
       "      <td>113.18</td>\n",
       "    </tr>\n",
       "    <tr>\n",
       "      <th>2</th>\n",
       "      <td>2017</td>\n",
       "      <td>1452</td>\n",
       "      <td>12.92</td>\n",
       "      <td>112.38</td>\n",
       "    </tr>\n",
       "    <tr>\n",
       "      <th>3</th>\n",
       "      <td>2018</td>\n",
       "      <td>1612</td>\n",
       "      <td>12.83</td>\n",
       "      <td>125.64</td>\n",
       "    </tr>\n",
       "    <tr>\n",
       "      <th>4</th>\n",
       "      <td>2019</td>\n",
       "      <td>1568</td>\n",
       "      <td>12.72</td>\n",
       "      <td>123.27</td>\n",
       "    </tr>\n",
       "    <tr>\n",
       "      <th>5</th>\n",
       "      <td>2020</td>\n",
       "      <td>1498</td>\n",
       "      <td>12.62</td>\n",
       "      <td>118.70</td>\n",
       "    </tr>\n",
       "    <tr>\n",
       "      <th>6</th>\n",
       "      <td>2021</td>\n",
       "      <td>1524</td>\n",
       "      <td>11.54</td>\n",
       "      <td>132.06</td>\n",
       "    </tr>\n",
       "    <tr>\n",
       "      <th>7</th>\n",
       "      <td>2022</td>\n",
       "      <td>1386</td>\n",
       "      <td>11.49</td>\n",
       "      <td>120.63</td>\n",
       "    </tr>\n",
       "    <tr>\n",
       "      <th>8</th>\n",
       "      <td>2023</td>\n",
       "      <td>1486</td>\n",
       "      <td>11.38</td>\n",
       "      <td>130.58</td>\n",
       "    </tr>\n",
       "    <tr>\n",
       "      <th>9</th>\n",
       "      <td>2024</td>\n",
       "      <td>991</td>\n",
       "      <td>NaN</td>\n",
       "      <td>NaN</td>\n",
       "    </tr>\n",
       "  </tbody>\n",
       "</table>\n",
       "</div>"
      ],
      "text/plain": [
       "   year    id  population   fract\n",
       "0  2015  1532       13.04  117.48\n",
       "1  2016  1468       12.97  113.18\n",
       "2  2017  1452       12.92  112.38\n",
       "3  2018  1612       12.83  125.64\n",
       "4  2019  1568       12.72  123.27\n",
       "5  2020  1498       12.62  118.70\n",
       "6  2021  1524       11.54  132.06\n",
       "7  2022  1386       11.49  120.63\n",
       "8  2023  1486       11.38  130.58\n",
       "9  2024   991         NaN     NaN"
      ]
     },
     "metadata": {},
     "output_type": "display_data"
    }
   ],
   "source": [
    "popul=[]\n",
    "\n",
    "for y in ko_gry['year']:\n",
    "    if y == 2015:\n",
    "        popul.append(round(1304348/100000, 2))\n",
    "    elif y == 2016:\n",
    "        popul.append(round(1297474/100000, 2))\n",
    "    elif y == 2017:\n",
    "        popul.append(round(1291684/100000, 2))\n",
    "    elif y == 2018:\n",
    "        popul.append(round(1283238/100000, 2))\n",
    "    elif y == 2019:\n",
    "        popul.append(round(1272109/100000, 2))\n",
    "    elif y == 2020:\n",
    "        popul.append(round(1262402/100000, 2))\n",
    "    elif y == 2021:\n",
    "        popul.append(round(1153680/100000, 2))\n",
    "    elif y == 2022:\n",
    "        popul.append(round(1149176/100000, 2))\n",
    "    elif y == 2023:\n",
    "        popul.append(round(1138112/100000, 2))\n",
    "    else:\n",
    "        popul.append(np.nan)\n",
    "        \n",
    "ko_gry['population'] = popul\n",
    "ko_gry['fract'] = round(ko_gry['id']/ko_gry['population'], 2)\n",
    "display(ko_gry)"
   ]
  },
  {
   "cell_type": "code",
   "execution_count": 139,
   "metadata": {},
   "outputs": [
    {
     "data": {
      "text/html": [
       "<div>\n",
       "<style scoped>\n",
       "    .dataframe tbody tr th:only-of-type {\n",
       "        vertical-align: middle;\n",
       "    }\n",
       "\n",
       "    .dataframe tbody tr th {\n",
       "        vertical-align: top;\n",
       "    }\n",
       "\n",
       "    .dataframe thead th {\n",
       "        text-align: right;\n",
       "    }\n",
       "</style>\n",
       "<table border=\"1\" class=\"dataframe\">\n",
       "  <thead>\n",
       "    <tr style=\"text-align: right;\">\n",
       "      <th></th>\n",
       "      <th>year</th>\n",
       "      <th>fract</th>\n",
       "    </tr>\n",
       "  </thead>\n",
       "  <tbody>\n",
       "    <tr>\n",
       "      <th>0</th>\n",
       "      <td>2015</td>\n",
       "      <td>117.48</td>\n",
       "    </tr>\n",
       "    <tr>\n",
       "      <th>1</th>\n",
       "      <td>2016</td>\n",
       "      <td>113.18</td>\n",
       "    </tr>\n",
       "    <tr>\n",
       "      <th>2</th>\n",
       "      <td>2017</td>\n",
       "      <td>112.38</td>\n",
       "    </tr>\n",
       "    <tr>\n",
       "      <th>3</th>\n",
       "      <td>2018</td>\n",
       "      <td>125.64</td>\n",
       "    </tr>\n",
       "    <tr>\n",
       "      <th>4</th>\n",
       "      <td>2019</td>\n",
       "      <td>123.27</td>\n",
       "    </tr>\n",
       "    <tr>\n",
       "      <th>5</th>\n",
       "      <td>2020</td>\n",
       "      <td>118.70</td>\n",
       "    </tr>\n",
       "    <tr>\n",
       "      <th>6</th>\n",
       "      <td>2021</td>\n",
       "      <td>132.06</td>\n",
       "    </tr>\n",
       "    <tr>\n",
       "      <th>7</th>\n",
       "      <td>2022</td>\n",
       "      <td>120.63</td>\n",
       "    </tr>\n",
       "    <tr>\n",
       "      <th>8</th>\n",
       "      <td>2023</td>\n",
       "      <td>130.58</td>\n",
       "    </tr>\n",
       "    <tr>\n",
       "      <th>9</th>\n",
       "      <td>2024</td>\n",
       "      <td>NaN</td>\n",
       "    </tr>\n",
       "  </tbody>\n",
       "</table>\n",
       "</div>"
      ],
      "text/plain": [
       "   year   fract\n",
       "0  2015  117.48\n",
       "1  2016  113.18\n",
       "2  2017  112.38\n",
       "3  2018  125.64\n",
       "4  2019  123.27\n",
       "5  2020  118.70\n",
       "6  2021  132.06\n",
       "7  2022  120.63\n",
       "8  2023  130.58\n",
       "9  2024     NaN"
      ]
     },
     "metadata": {},
     "output_type": "display_data"
    }
   ],
   "source": [
    "ko_g = ko_gry[['year', 'fract']]\n",
    "display(ko_g)"
   ]
  },
  {
   "cell_type": "code",
   "execution_count": 140,
   "metadata": {},
   "outputs": [
    {
     "data": {
      "image/png": "[encoded data removed]",
      "text/plain": [
       "<Figure size 640x480 with 1 Axes>"
      ]
     },
     "metadata": {},
     "output_type": "display_data"
    }
   ],
   "source": [
    "ko_g.plot(kind='bar', x='year', y='fract', legend=False)\n",
    "plt.title('График ДТП, совершённых в Кировской области, в пересчёте на 100 тыс.человек')\n",
    "plt.show()"
   ]
  },
  {
   "cell_type": "code",
   "execution_count": 141,
   "metadata": {},
   "outputs": [
    {
     "data": {
      "text/html": [
       "<div>\n",
       "<style scoped>\n",
       "    .dataframe tbody tr th:only-of-type {\n",
       "        vertical-align: middle;\n",
       "    }\n",
       "\n",
       "    .dataframe tbody tr th {\n",
       "        vertical-align: top;\n",
       "    }\n",
       "\n",
       "    .dataframe thead th {\n",
       "        text-align: right;\n",
       "    }\n",
       "</style>\n",
       "<table border=\"1\" class=\"dataframe\">\n",
       "  <thead>\n",
       "    <tr style=\"text-align: right;\">\n",
       "      <th></th>\n",
       "      <th>year</th>\n",
       "      <th>id</th>\n",
       "      <th>population</th>\n",
       "      <th>fract</th>\n",
       "    </tr>\n",
       "  </thead>\n",
       "  <tbody>\n",
       "    <tr>\n",
       "      <th>0</th>\n",
       "      <td>2015</td>\n",
       "      <td>6643</td>\n",
       "      <td>72.31</td>\n",
       "      <td>91.87</td>\n",
       "    </tr>\n",
       "    <tr>\n",
       "      <th>1</th>\n",
       "      <td>2016</td>\n",
       "      <td>5794</td>\n",
       "      <td>73.19</td>\n",
       "      <td>79.16</td>\n",
       "    </tr>\n",
       "    <tr>\n",
       "      <th>2</th>\n",
       "      <td>2017</td>\n",
       "      <td>5747</td>\n",
       "      <td>74.23</td>\n",
       "      <td>77.42</td>\n",
       "    </tr>\n",
       "    <tr>\n",
       "      <th>3</th>\n",
       "      <td>2018</td>\n",
       "      <td>5102</td>\n",
       "      <td>75.03</td>\n",
       "      <td>68.00</td>\n",
       "    </tr>\n",
       "    <tr>\n",
       "      <th>4</th>\n",
       "      <td>2019</td>\n",
       "      <td>5111</td>\n",
       "      <td>76.00</td>\n",
       "      <td>67.25</td>\n",
       "    </tr>\n",
       "    <tr>\n",
       "      <th>5</th>\n",
       "      <td>2020</td>\n",
       "      <td>4216</td>\n",
       "      <td>76.91</td>\n",
       "      <td>54.82</td>\n",
       "    </tr>\n",
       "    <tr>\n",
       "      <th>6</th>\n",
       "      <td>2021</td>\n",
       "      <td>3898</td>\n",
       "      <td>85.25</td>\n",
       "      <td>45.72</td>\n",
       "    </tr>\n",
       "    <tr>\n",
       "      <th>7</th>\n",
       "      <td>2022</td>\n",
       "      <td>3353</td>\n",
       "      <td>85.42</td>\n",
       "      <td>39.25</td>\n",
       "    </tr>\n",
       "    <tr>\n",
       "      <th>8</th>\n",
       "      <td>2023</td>\n",
       "      <td>3372</td>\n",
       "      <td>85.92</td>\n",
       "      <td>39.25</td>\n",
       "    </tr>\n",
       "    <tr>\n",
       "      <th>9</th>\n",
       "      <td>2024</td>\n",
       "      <td>2382</td>\n",
       "      <td>NaN</td>\n",
       "      <td>NaN</td>\n",
       "    </tr>\n",
       "  </tbody>\n",
       "</table>\n",
       "</div>"
      ],
      "text/plain": [
       "   year    id  population  fract\n",
       "0  2015  6643       72.31  91.87\n",
       "1  2016  5794       73.19  79.16\n",
       "2  2017  5747       74.23  77.42\n",
       "3  2018  5102       75.03  68.00\n",
       "4  2019  5111       76.00  67.25\n",
       "5  2020  4216       76.91  54.82\n",
       "6  2021  3898       85.25  45.72\n",
       "7  2022  3353       85.42  39.25\n",
       "8  2023  3372       85.92  39.25\n",
       "9  2024  2382         NaN    NaN"
      ]
     },
     "metadata": {},
     "output_type": "display_data"
    }
   ],
   "source": [
    "popul=[]\n",
    "\n",
    "for y in mo_gry['year']:\n",
    "    if y == 2015:\n",
    "        popul.append(round(7231068/100000, 2))\n",
    "    elif y == 2016:\n",
    "        popul.append(round(7318647/100000, 2))\n",
    "    elif y == 2017:\n",
    "        popul.append(round(7423470/100000, 2))\n",
    "    elif y == 2018:\n",
    "        popul.append(round(7503385/100000, 2))\n",
    "    elif y == 2019:\n",
    "        popul.append(round(7599647/100000, 2))\n",
    "    elif y == 2020:\n",
    "        popul.append(round(7690863/100000, 2))\n",
    "    elif y == 2021:\n",
    "        popul.append(round(8524665/100000, 2))\n",
    "    elif y == 2022:\n",
    "        popul.append(round(8542257/100000, 2))\n",
    "    elif y == 2023:\n",
    "        popul.append(round(8591736/100000, 2))\n",
    "    else:\n",
    "        popul.append(np.nan)\n",
    "        \n",
    "mo_gry['population'] = popul\n",
    "mo_gry['fract'] = round(mo_gry['id']/mo_gry['population'], 2)\n",
    "\n",
    "display(mo_gry)"
   ]
  },
  {
   "cell_type": "code",
   "execution_count": 142,
   "metadata": {},
   "outputs": [
    {
     "data": {
      "text/html": [
       "<div>\n",
       "<style scoped>\n",
       "    .dataframe tbody tr th:only-of-type {\n",
       "        vertical-align: middle;\n",
       "    }\n",
       "\n",
       "    .dataframe tbody tr th {\n",
       "        vertical-align: top;\n",
       "    }\n",
       "\n",
       "    .dataframe thead th {\n",
       "        text-align: right;\n",
       "    }\n",
       "</style>\n",
       "<table border=\"1\" class=\"dataframe\">\n",
       "  <thead>\n",
       "    <tr style=\"text-align: right;\">\n",
       "      <th></th>\n",
       "      <th>year</th>\n",
       "      <th>fract</th>\n",
       "    </tr>\n",
       "  </thead>\n",
       "  <tbody>\n",
       "    <tr>\n",
       "      <th>0</th>\n",
       "      <td>2015</td>\n",
       "      <td>91.87</td>\n",
       "    </tr>\n",
       "    <tr>\n",
       "      <th>1</th>\n",
       "      <td>2016</td>\n",
       "      <td>79.16</td>\n",
       "    </tr>\n",
       "    <tr>\n",
       "      <th>2</th>\n",
       "      <td>2017</td>\n",
       "      <td>77.42</td>\n",
       "    </tr>\n",
       "    <tr>\n",
       "      <th>3</th>\n",
       "      <td>2018</td>\n",
       "      <td>68.00</td>\n",
       "    </tr>\n",
       "    <tr>\n",
       "      <th>4</th>\n",
       "      <td>2019</td>\n",
       "      <td>67.25</td>\n",
       "    </tr>\n",
       "    <tr>\n",
       "      <th>5</th>\n",
       "      <td>2020</td>\n",
       "      <td>54.82</td>\n",
       "    </tr>\n",
       "    <tr>\n",
       "      <th>6</th>\n",
       "      <td>2021</td>\n",
       "      <td>45.72</td>\n",
       "    </tr>\n",
       "    <tr>\n",
       "      <th>7</th>\n",
       "      <td>2022</td>\n",
       "      <td>39.25</td>\n",
       "    </tr>\n",
       "    <tr>\n",
       "      <th>8</th>\n",
       "      <td>2023</td>\n",
       "      <td>39.25</td>\n",
       "    </tr>\n",
       "    <tr>\n",
       "      <th>9</th>\n",
       "      <td>2024</td>\n",
       "      <td>NaN</td>\n",
       "    </tr>\n",
       "  </tbody>\n",
       "</table>\n",
       "</div>"
      ],
      "text/plain": [
       "   year  fract\n",
       "0  2015  91.87\n",
       "1  2016  79.16\n",
       "2  2017  77.42\n",
       "3  2018  68.00\n",
       "4  2019  67.25\n",
       "5  2020  54.82\n",
       "6  2021  45.72\n",
       "7  2022  39.25\n",
       "8  2023  39.25\n",
       "9  2024    NaN"
      ]
     },
     "metadata": {},
     "output_type": "display_data"
    }
   ],
   "source": [
    "mo_g = mo_gry[['year', 'fract']]\n",
    "display(mo_g)"
   ]
  },
  {
   "cell_type": "code",
   "execution_count": 143,
   "metadata": {},
   "outputs": [
    {
     "data": {
      "image/png": "[encoded data removed]",
      "text/plain": [
       "<Figure size 640x480 with 1 Axes>"
      ]
     },
     "metadata": {},
     "output_type": "display_data"
    }
   ],
   "source": [
    "mo_g.plot(kind='bar', x='year', y='fract', legend=False)\n",
    "plt.title('График ДТП, совершённых в Московской области, в пересчёте на 100 тыс.человек')\n",
    "plt.show()"
   ]
  },
  {
   "cell_type": "markdown",
   "metadata": {},
   "source": [
    "Из приведённых графиков видно, что количество ДТП в Московской области уменьшается и в пересчёте на 100.000 населения. Для Кировской области такой динамики нет."
   ]
  },
  {
   "cell_type": "code",
   "execution_count": 144,
   "metadata": {},
   "outputs": [
    {
     "data": {
      "text/html": [
       "<div>\n",
       "<style scoped>\n",
       "    .dataframe tbody tr th:only-of-type {\n",
       "        vertical-align: middle;\n",
       "    }\n",
       "\n",
       "    .dataframe tbody tr th {\n",
       "        vertical-align: top;\n",
       "    }\n",
       "\n",
       "    .dataframe thead th {\n",
       "        text-align: right;\n",
       "    }\n",
       "</style>\n",
       "<table border=\"1\" class=\"dataframe\">\n",
       "  <thead>\n",
       "    <tr style=\"text-align: right;\">\n",
       "      <th></th>\n",
       "      <th>year</th>\n",
       "      <th>fract_kir</th>\n",
       "      <th>fract_mos</th>\n",
       "    </tr>\n",
       "  </thead>\n",
       "  <tbody>\n",
       "    <tr>\n",
       "      <th>0</th>\n",
       "      <td>2015</td>\n",
       "      <td>117.48</td>\n",
       "      <td>91.87</td>\n",
       "    </tr>\n",
       "    <tr>\n",
       "      <th>1</th>\n",
       "      <td>2016</td>\n",
       "      <td>113.18</td>\n",
       "      <td>79.16</td>\n",
       "    </tr>\n",
       "    <tr>\n",
       "      <th>2</th>\n",
       "      <td>2017</td>\n",
       "      <td>112.38</td>\n",
       "      <td>77.42</td>\n",
       "    </tr>\n",
       "    <tr>\n",
       "      <th>3</th>\n",
       "      <td>2018</td>\n",
       "      <td>125.64</td>\n",
       "      <td>68.00</td>\n",
       "    </tr>\n",
       "    <tr>\n",
       "      <th>4</th>\n",
       "      <td>2019</td>\n",
       "      <td>123.27</td>\n",
       "      <td>67.25</td>\n",
       "    </tr>\n",
       "    <tr>\n",
       "      <th>5</th>\n",
       "      <td>2020</td>\n",
       "      <td>118.70</td>\n",
       "      <td>54.82</td>\n",
       "    </tr>\n",
       "    <tr>\n",
       "      <th>6</th>\n",
       "      <td>2021</td>\n",
       "      <td>132.06</td>\n",
       "      <td>45.72</td>\n",
       "    </tr>\n",
       "    <tr>\n",
       "      <th>7</th>\n",
       "      <td>2022</td>\n",
       "      <td>120.63</td>\n",
       "      <td>39.25</td>\n",
       "    </tr>\n",
       "    <tr>\n",
       "      <th>8</th>\n",
       "      <td>2023</td>\n",
       "      <td>130.58</td>\n",
       "      <td>39.25</td>\n",
       "    </tr>\n",
       "    <tr>\n",
       "      <th>9</th>\n",
       "      <td>2024</td>\n",
       "      <td>NaN</td>\n",
       "      <td>NaN</td>\n",
       "    </tr>\n",
       "  </tbody>\n",
       "</table>\n",
       "</div>"
      ],
      "text/plain": [
       "   year  fract_kir  fract_mos\n",
       "0  2015     117.48      91.87\n",
       "1  2016     113.18      79.16\n",
       "2  2017     112.38      77.42\n",
       "3  2018     125.64      68.00\n",
       "4  2019     123.27      67.25\n",
       "5  2020     118.70      54.82\n",
       "6  2021     132.06      45.72\n",
       "7  2022     120.63      39.25\n",
       "8  2023     130.58      39.25\n",
       "9  2024        NaN        NaN"
      ]
     },
     "metadata": {},
     "output_type": "display_data"
    }
   ],
   "source": [
    "two = ko_g.merge(mo_g, on = 'year', suffixes=('_kir', '_mos'))\n",
    "display(two)"
   ]
  },
  {
   "cell_type": "code",
   "execution_count": 145,
   "metadata": {},
   "outputs": [
    {
     "data": {
      "image/png": "[encoded data removed]",
      "text/plain": [
       "<Figure size 640x480 with 1 Axes>"
      ]
     },
     "metadata": {},
     "output_type": "display_data"
    }
   ],
   "source": [
    "two.plot(kind='bar', x='year', legend=True)\n",
    "plt.title('График ДТП, совершённых в Кировской и Московской области, в пересчёте на 100 тыс.человек')\n",
    "plt.legend(['Кировская', 'Московская'])\n",
    "plt.show()"
   ]
  },
  {
   "cell_type": "markdown",
   "metadata": {},
   "source": [
    "В Кировской области наблюдается большее число ДТП на 100 тыс.человек, чем в Московской области."
   ]
  },
  {
   "cell_type": "markdown",
   "metadata": {
    "id": "mk1hihKDgKC3"
   },
   "source": [
    "## Итоговые выводы\n"
   ]
  },
  {
   "cell_type": "markdown",
   "metadata": {
    "collapsed": true,
    "jupyter": {
     "outputs_hidden": true
    }
   },
   "source": [
    "### Пропуски\n",
    "Отсутствие данных о координатах ДТП может быть следствием технических неполадок. Это всего 0.22%.\n",
    "\n",
    "Пропуски в схемах ДТП составляют почти 8%. Возможно, они возникли вследствие человеческого фактора или невозможности определить конкретную схему ДТП.\n",
    "\n",
    "Пропуски в графе с адресом составляют почти 5%. Они могут быть связаны с невозможностью определить конкретный адрес (например, на загородных трассах) или опять же с человеческим фактором."
   ]
  },
  {
   "cell_type": "markdown",
   "metadata": {
    "collapsed": true,
    "jupyter": {
     "outputs_hidden": true
    }
   },
   "source": [
    "### Явные дубликаты\n",
    "\n",
    "Процент явных дубликатов в таблицах с участниками ДТП довольно высок (31-37%)- вероятно, появлялись повторные записи при повторных ДТП.\n",
    "\n",
    "Также 0.09% полностью повторяющихся записей есть в таблицах с данными о транспортных средствах."
   ]
  },
  {
   "cell_type": "markdown",
   "metadata": {
    "collapsed": true,
    "jupyter": {
     "outputs_hidden": true
    }
   },
   "source": [
    "### ДТП по дням недели\n",
    "\n",
    "Наибольшее количество ДТП в обеих областях происходит в четверг и пятницу. В понедельник и вторник (и в среду в Кировской области) это значение минимально."
   ]
  },
  {
   "cell_type": "markdown",
   "metadata": {
    "collapsed": true,
    "jupyter": {
     "outputs_hidden": true
    }
   },
   "source": [
    "### ДТП по месяцам года\n",
    "\n",
    "Наибольшее количество ДТП в обеих областях приходится на июль. Наименьшее - на январь и февраль."
   ]
  },
  {
   "cell_type": "markdown",
   "metadata": {
    "collapsed": true,
    "jupyter": {
     "outputs_hidden": true
    }
   },
   "source": [
    "### Различия в числе ДТП в категориях водителей с разным стажем\n",
    "\n",
    "Максимальное количество ДТП приходится на группу со стажем от 1 до 10 лет, дальше процент совершённых ДТП уменьшается. Возможно, это отчасти связано с тем, что людей с бОльшим стажем просто меньше по популяции (обратим внимание, что мы вычисляем **процент от совершённых ДТП**, а не **процент водителей определённой группы, попавших в ДТП, от всего количества водителей в этой группе**, так что, на мой взгляд, полученные результаты сложно верно интерпретировать)."
   ]
  },
  {
   "cell_type": "markdown",
   "metadata": {},
   "source": [
    "### Динамика числа ДТП по областям с 2015 по 2023 год\n",
    "\n",
    "В Кировской области изменения числа ДТП не наблюдается ни в абсолютном, ни в относительном (в пересчёте на 100.000 населения) выражении.\n",
    "\n",
    "Для Московской же области характерно снижение количества ДТП с 2015 по 2023 год и в абсолютном, и в относительном выражении.\n",
    "\n",
    "При этом в Кировской области наблюдается большее число ДТП на 100 тыс.человек, чем в Московской области."
   ]
  },
  {
   "cell_type": "markdown",
   "metadata": {
    "scrolled": true
   },
   "source": [
    "### Вывод\n",
    "\n",
    "В Московской области профилактика ДТП явно приводит к положительным результатам. В Кировской области такого не наблюдается."
   ]
  }
 ],
 "metadata": {
  "colab": {
   "provenance": [],
   "toc_visible": true
  },
  "kernelspec": {
   "display_name": "Python 3 (ipykernel)",
   "language": "python",
   "name": "python3"
  },
  "language_info": {
   "codemirror_mode": {
    "name": "ipython",
    "version": 3
   },
   "file_extension": ".py",
   "mimetype": "text/x-python",
   "name": "python",
   "nbconvert_exporter": "python",
   "pygments_lexer": "ipython3",
   "version": "3.13.0"
  },
  "toc": {
   "base_numbering": 1,
   "nav_menu": {},
   "number_sections": true,
   "sideBar": true,
   "skip_h1_title": true,
   "title_cell": "Table of Contents",
   "title_sidebar": "Contents",
   "toc_cell": false,
   "toc_position": {},
   "toc_section_display": true,
   "toc_window_display": false
  }
 },
 "nbformat": 4,
 "nbformat_minor": 4
}
